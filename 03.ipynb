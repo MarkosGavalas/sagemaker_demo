{
 "cells": [
  {
   "cell_type": "markdown",
   "id": "53ecfd1b-cd11-485e-af7e-100b49cdd994",
   "metadata": {},
   "source": [
    "# Hyperparameter tunning\n",
    "\n",
    "#### Introduction\n",
    "\n",
    "This notebook makes a hyperparameter tunning to the XGBoost algorithm used in the 02_training notebook. \\\n",
    "After finding the best parameters the models is hosted in an endpoint and makes predictions on test dataset. "
   ]
  },
  {
   "cell_type": "markdown",
   "id": "e3f2021b-607d-4d68-8f6f-7fae39a3b4db",
   "metadata": {},
   "source": [
    "#### Imports:"
   ]
  },
  {
   "cell_type": "code",
   "execution_count": 2,
   "id": "4721ef1e-6aea-4e48-b902-4b49f1f624db",
   "metadata": {
    "tags": []
   },
   "outputs": [
    {
     "name": "stdout",
     "output_type": "stream",
     "text": [
      "sagemaker.config INFO - Not applying SDK defaults from location: /etc/xdg/sagemaker/config.yaml\n",
      "sagemaker.config INFO - Not applying SDK defaults from location: /root/.config/sagemaker/config.yaml\n"
     ]
    }
   ],
   "source": [
    "import sagemaker\n",
    "import boto3\n",
    "from sagemaker.tuner import (\n",
    "    IntegerParameter,\n",
    "    CategoricalParameter,\n",
    "    ContinuousParameter,\n",
    "    HyperparameterTuner,\n",
    ")\n",
    "from sagemaker.inputs import TrainingInput\n",
    "from sklearn.metrics import classification_report\n",
    "\n",
    "from time import gmtime, strftime\n",
    "\n",
    "import numpy as np\n",
    "import pandas as pd\n",
    "import os"
   ]
  },
  {
   "cell_type": "markdown",
   "id": "bd1958cf-d06f-465b-8ed7-54ca146e3868",
   "metadata": {},
   "source": [
    "#### Sessions:"
   ]
  },
  {
   "cell_type": "code",
   "execution_count": 3,
   "id": "f2b55012-d38d-4037-b420-094bef415101",
   "metadata": {
    "tags": []
   },
   "outputs": [
    {
     "name": "stdout",
     "output_type": "stream",
     "text": [
      "sagemaker.config INFO - Not applying SDK defaults from location: /etc/xdg/sagemaker/config.yaml\n",
      "sagemaker.config INFO - Not applying SDK defaults from location: /root/.config/sagemaker/config.yaml\n"
     ]
    }
   ],
   "source": [
    "region = boto3.Session().region_name\n",
    "role = sagemaker.get_execution_role()"
   ]
  },
  {
   "cell_type": "markdown",
   "id": "973b7122-0e0a-4efd-85e1-02f7b080446c",
   "metadata": {},
   "source": [
    "#### Bucket paths:"
   ]
  },
  {
   "cell_type": "code",
   "execution_count": 4,
   "id": "d31533a1-0b02-4a72-a8da-babcd0570323",
   "metadata": {
    "tags": []
   },
   "outputs": [],
   "source": [
    "prefix = \"hyp\"\n",
    "bucket = \"markos-telco-churn\"\n",
    "bucket_path = f\"s3://{bucket}\"\n",
    "input_data_path = \"ingest/ingest-2023-10-14-21-32-51\"\n",
    "\n",
    "\n",
    "model_path = \"model\"\n",
    "model_output_path = os.path.join(model_path, \"output\")"
   ]
  },
  {
   "cell_type": "code",
   "execution_count": 5,
   "id": "aa3152de-a5c7-457d-8ffb-bcef7bfcdbcb",
   "metadata": {
    "tags": []
   },
   "outputs": [
    {
     "name": "stdout",
     "output_type": "stream",
     "text": [
      "sagemaker.config INFO - Not applying SDK defaults from location: /etc/xdg/sagemaker/config.yaml\n",
      "sagemaker.config INFO - Not applying SDK defaults from location: /root/.config/sagemaker/config.yaml\n"
     ]
    }
   ],
   "source": [
    "sess = sagemaker.Session(default_bucket=bucket)\n",
    "container = sagemaker.image_uris.retrieve(\"xgboost\", boto3.Session().region_name, \"1.7-1\")"
   ]
  },
  {
   "cell_type": "markdown",
   "id": "335f5f53-444a-4cc4-936e-01c4dbcf4ba3",
   "metadata": {},
   "source": [
    "#### Define the grid:"
   ]
  },
  {
   "cell_type": "code",
   "execution_count": 6,
   "id": "072a1ef1-ccd2-4a8d-8e51-82343cd8c532",
   "metadata": {
    "tags": []
   },
   "outputs": [],
   "source": [
    "base_tuning_job_name = f'{prefix}-{strftime(\"%Y-%m-%d-%H-%M-%S\", gmtime())}'\n",
    "output_path = os.path.join(bucket_path, prefix, base_tuning_job_name)\n",
    "\n",
    "xgb = sagemaker.estimator.Estimator(\n",
    "    container,\n",
    "    role,\n",
    "    instance_count=1,\n",
    "    instance_type=\"ml.m4.xlarge\",\n",
    "    output_path=output_path,\n",
    "    sagemaker_session=sess,\n",
    ")\n",
    "\n",
    "xgb.set_hyperparameters(\n",
    "    objective=\"binary:logistic\",\n",
    "    eval_metric=\"error\",\n",
    "    num_round=10\n",
    ")\n",
    "\n",
    "hyperparameter_ranges = {\n",
    "    \"eta\": ContinuousParameter(0, 1),\n",
    "    \"min_child_weight\": ContinuousParameter(1, 10),\n",
    "    \"alpha\": ContinuousParameter(0, 2),\n",
    "    \"max_depth\": IntegerParameter(1, 10),\n",
    "}\n",
    "\n",
    "objective_metric_name = \"validation:f1\"\n",
    "\n",
    "tuner = HyperparameterTuner(\n",
    "    xgb, objective_metric_name, hyperparameter_ranges, autotune=True, max_jobs=3, max_parallel_jobs=3, base_tuning_job_name=base_tuning_job_name)"
   ]
  },
  {
   "cell_type": "markdown",
   "id": "357a665f-68e5-46b3-a3b9-f6bdffcd0acd",
   "metadata": {},
   "source": [
    "#### Define input paths:"
   ]
  },
  {
   "cell_type": "code",
   "execution_count": 7,
   "id": "98b434c4-3755-423e-a70e-10cae11b806d",
   "metadata": {
    "tags": []
   },
   "outputs": [
    {
     "name": "stderr",
     "output_type": "stream",
     "text": [
      "No finished training job found associated with this estimator. Please make sure this estimator is only used for building workflow config\n"
     ]
    },
    {
     "name": "stdout",
     "output_type": "stream",
     "text": [
      "......................................................!\n"
     ]
    }
   ],
   "source": [
    "s3_input_train = TrainingInput(\n",
    "    s3_data=f\"{bucket_path}/{input_data_path}/train/train.csv\", content_type=\"csv\"\n",
    ")\n",
    "s3_input_validation = TrainingInput(\n",
    "    s3_data=f\"{bucket_path}/{input_data_path}/val/val.csv\", content_type=\"csv\"\n",
    ")\n",
    "\n",
    "tuner.fit({\"train\": s3_input_train, \"validation\": s3_input_validation}, include_cls_metadata=False)"
   ]
  },
  {
   "cell_type": "code",
   "execution_count": 8,
   "id": "d800ea38-1d88-4c1e-b5a5-33be04aeae8f",
   "metadata": {
    "tags": []
   },
   "outputs": [
    {
     "data": {
      "text/plain": [
       "'Completed'"
      ]
     },
     "execution_count": 8,
     "metadata": {},
     "output_type": "execute_result"
    }
   ],
   "source": [
    "boto3.client(\"sagemaker\").describe_hyper_parameter_tuning_job(\n",
    "    HyperParameterTuningJobName=tuner.latest_tuning_job.job_name\n",
    ")[\"HyperParameterTuningJobStatus\"]"
   ]
  },
  {
   "cell_type": "markdown",
   "id": "f946146a-c494-4493-aa6f-690c7374b3ce",
   "metadata": {},
   "source": [
    "#### Describe and extract the best parameters:"
   ]
  },
  {
   "cell_type": "code",
   "execution_count": 9,
   "id": "7530e244-f965-4938-a954-6ce20f318f85",
   "metadata": {
    "tags": []
   },
   "outputs": [],
   "source": [
    "training_job_name=boto3.client(\"sagemaker\").describe_hyper_parameter_tuning_job(\n",
    "    HyperParameterTuningJobName=tuner.latest_tuning_job.job_name\n",
    ")['BestTrainingJob']['TrainingJobName']"
   ]
  },
  {
   "cell_type": "code",
   "execution_count": 10,
   "id": "bc87f549-ac25-487b-8cfd-0eef5b67ef93",
   "metadata": {
    "tags": []
   },
   "outputs": [
    {
     "name": "stdout",
     "output_type": "stream",
     "text": [
      "Best Hyperparameters:\n",
      "{'_tuning_objective_metric': 'validation:f1', 'alpha': '1.153907859890421', 'eta': '0.896689140418828', 'eval_metric': 'error', 'max_depth': '1', 'min_child_weight': '9.060994643450572', 'num_round': '685', 'objective': 'binary:logistic'}\n"
     ]
    }
   ],
   "source": [
    "# Describe the best training job to get its hyperparameters\n",
    "best_training_job_description = boto3.client(\"sagemaker\").describe_training_job(\n",
    "    TrainingJobName=training_job_name\n",
    ")\n",
    "\n",
    "# Extract the hyperparameters from the best training job description\n",
    "best_hyperparameters = best_training_job_description['HyperParameters']\n",
    "\n",
    "print(\"Best Hyperparameters:\")\n",
    "print(best_hyperparameters)"
   ]
  },
  {
   "cell_type": "markdown",
   "id": "3fd322a1-2144-4769-babf-f48b44b93399",
   "metadata": {},
   "source": [
    "#### Deploy model in an Endpoint:"
   ]
  },
  {
   "cell_type": "code",
   "execution_count": 11,
   "id": "9568e374-25ef-4d14-9219-d8bd0f938b00",
   "metadata": {
    "tags": []
   },
   "outputs": [
    {
     "name": "stdout",
     "output_type": "stream",
     "text": [
      "\n",
      "2023-10-16 12:44:20 Starting - Preparing the instances for training\n",
      "2023-10-16 12:44:20 Downloading - Downloading input data\n",
      "2023-10-16 12:44:20 Training - Training image download completed. Training in progress.\n",
      "2023-10-16 12:44:20 Uploading - Uploading generated training model\n",
      "2023-10-16 12:44:20 Completed - Resource retained for reuse\n",
      "-----!"
     ]
    }
   ],
   "source": [
    "from sagemaker.serializers import CSVSerializer\n",
    "\n",
    "endpoint_config_name = f'churn-demo-feature-engineered-xgbpconfig-{strftime(\"%Y-%m-%d-%H-%M-%S\", gmtime())}'\n",
    "xgb_predictor = tuner.deploy(\n",
    "    initial_instance_count=1, instance_type=\"ml.m4.xlarge\", serializer=CSVSerializer(), endpoint_name=endpoint_config_name\n",
    ")"
   ]
  },
  {
   "cell_type": "markdown",
   "id": "df2378db-3a58-4f3f-86b8-df2abe96e67f",
   "metadata": {},
   "source": [
    "#### Evaluate on test data:"
   ]
  },
  {
   "cell_type": "code",
   "execution_count": 12,
   "id": "ac80b38b-6f94-491e-934c-d320ea171c65",
   "metadata": {
    "tags": []
   },
   "outputs": [],
   "source": [
    "def predict(data, rows=500):\n",
    "    split_array = np.array_split(data, int(data.shape[0] / float(rows) + 1))\n",
    "    predictions = \"\"\n",
    "    for array in split_array:\n",
    "        predictions = \"\".join([predictions, xgb_predictor.predict(array).decode(\"utf-8\")])\n",
    "\n",
    "    return predictions.split(\"\\n\")[:-1]"
   ]
  },
  {
   "cell_type": "code",
   "execution_count": 13,
   "id": "45c74884-53b6-48a7-87f6-f46deafd9746",
   "metadata": {
    "tags": []
   },
   "outputs": [
    {
     "data": {
      "text/html": [
       "<div>\n",
       "<style scoped>\n",
       "    .dataframe tbody tr th:only-of-type {\n",
       "        vertical-align: middle;\n",
       "    }\n",
       "\n",
       "    .dataframe tbody tr th {\n",
       "        vertical-align: top;\n",
       "    }\n",
       "\n",
       "    .dataframe thead th {\n",
       "        text-align: right;\n",
       "    }\n",
       "</style>\n",
       "<table border=\"1\" class=\"dataframe\">\n",
       "  <thead>\n",
       "    <tr style=\"text-align: right;\">\n",
       "      <th></th>\n",
       "      <th>Churn</th>\n",
       "      <th>tenure</th>\n",
       "      <th>MonthlyCharges</th>\n",
       "      <th>TotalCharges</th>\n",
       "      <th>gender_M</th>\n",
       "      <th>SeniorCitizen_Y</th>\n",
       "      <th>Partner_Yes</th>\n",
       "      <th>Dependents_Yes</th>\n",
       "      <th>PhoneService_Yes</th>\n",
       "      <th>MultipleLines_No_phone</th>\n",
       "      <th>...</th>\n",
       "      <th>StreamingTV_Yes</th>\n",
       "      <th>StreamingMovies_No_internet</th>\n",
       "      <th>StreamingMovies_Yes</th>\n",
       "      <th>Contract_One_year</th>\n",
       "      <th>Contract_Two_years</th>\n",
       "      <th>PaperlessBilling_Yes</th>\n",
       "      <th>PaymentMethod_Credit_card</th>\n",
       "      <th>PaymentMethod_Electronic_check</th>\n",
       "      <th>PaymentMethod_Mailed_check</th>\n",
       "      <th>pred</th>\n",
       "    </tr>\n",
       "  </thead>\n",
       "  <tbody>\n",
       "    <tr>\n",
       "      <th>0</th>\n",
       "      <td>1.0</td>\n",
       "      <td>0.518765</td>\n",
       "      <td>1.199763</td>\n",
       "      <td>1.084916</td>\n",
       "      <td>1.0</td>\n",
       "      <td>0.0</td>\n",
       "      <td>0.0</td>\n",
       "      <td>0.0</td>\n",
       "      <td>1.0</td>\n",
       "      <td>0.0</td>\n",
       "      <td>...</td>\n",
       "      <td>1.0</td>\n",
       "      <td>0.0</td>\n",
       "      <td>1.0</td>\n",
       "      <td>0.0</td>\n",
       "      <td>0.0</td>\n",
       "      <td>1.0</td>\n",
       "      <td>1.0</td>\n",
       "      <td>0.0</td>\n",
       "      <td>0.0</td>\n",
       "      <td>0</td>\n",
       "    </tr>\n",
       "    <tr>\n",
       "      <th>1</th>\n",
       "      <td>0.0</td>\n",
       "      <td>0.192300</td>\n",
       "      <td>-0.648933</td>\n",
       "      <td>-0.303180</td>\n",
       "      <td>0.0</td>\n",
       "      <td>0.0</td>\n",
       "      <td>1.0</td>\n",
       "      <td>0.0</td>\n",
       "      <td>0.0</td>\n",
       "      <td>1.0</td>\n",
       "      <td>...</td>\n",
       "      <td>1.0</td>\n",
       "      <td>0.0</td>\n",
       "      <td>0.0</td>\n",
       "      <td>0.0</td>\n",
       "      <td>1.0</td>\n",
       "      <td>0.0</td>\n",
       "      <td>0.0</td>\n",
       "      <td>1.0</td>\n",
       "      <td>0.0</td>\n",
       "      <td>0</td>\n",
       "    </tr>\n",
       "    <tr>\n",
       "      <th>2</th>\n",
       "      <td>0.0</td>\n",
       "      <td>1.212503</td>\n",
       "      <td>1.306451</td>\n",
       "      <td>1.901170</td>\n",
       "      <td>1.0</td>\n",
       "      <td>0.0</td>\n",
       "      <td>0.0</td>\n",
       "      <td>1.0</td>\n",
       "      <td>1.0</td>\n",
       "      <td>0.0</td>\n",
       "      <td>...</td>\n",
       "      <td>1.0</td>\n",
       "      <td>0.0</td>\n",
       "      <td>1.0</td>\n",
       "      <td>0.0</td>\n",
       "      <td>1.0</td>\n",
       "      <td>1.0</td>\n",
       "      <td>0.0</td>\n",
       "      <td>1.0</td>\n",
       "      <td>0.0</td>\n",
       "      <td>0</td>\n",
       "    </tr>\n",
       "    <tr>\n",
       "      <th>3</th>\n",
       "      <td>1.0</td>\n",
       "      <td>-1.072750</td>\n",
       "      <td>-0.563916</td>\n",
       "      <td>-0.871316</td>\n",
       "      <td>0.0</td>\n",
       "      <td>0.0</td>\n",
       "      <td>0.0</td>\n",
       "      <td>0.0</td>\n",
       "      <td>0.0</td>\n",
       "      <td>1.0</td>\n",
       "      <td>...</td>\n",
       "      <td>1.0</td>\n",
       "      <td>0.0</td>\n",
       "      <td>1.0</td>\n",
       "      <td>0.0</td>\n",
       "      <td>0.0</td>\n",
       "      <td>1.0</td>\n",
       "      <td>0.0</td>\n",
       "      <td>1.0</td>\n",
       "      <td>0.0</td>\n",
       "      <td>1</td>\n",
       "    </tr>\n",
       "    <tr>\n",
       "      <th>4</th>\n",
       "      <td>0.0</td>\n",
       "      <td>-0.827902</td>\n",
       "      <td>0.281250</td>\n",
       "      <td>-0.640643</td>\n",
       "      <td>1.0</td>\n",
       "      <td>1.0</td>\n",
       "      <td>0.0</td>\n",
       "      <td>0.0</td>\n",
       "      <td>1.0</td>\n",
       "      <td>0.0</td>\n",
       "      <td>...</td>\n",
       "      <td>0.0</td>\n",
       "      <td>0.0</td>\n",
       "      <td>0.0</td>\n",
       "      <td>0.0</td>\n",
       "      <td>0.0</td>\n",
       "      <td>1.0</td>\n",
       "      <td>1.0</td>\n",
       "      <td>0.0</td>\n",
       "      <td>0.0</td>\n",
       "      <td>1</td>\n",
       "    </tr>\n",
       "  </tbody>\n",
       "</table>\n",
       "<p>5 rows × 32 columns</p>\n",
       "</div>"
      ],
      "text/plain": [
       "   Churn    tenure  MonthlyCharges  TotalCharges  gender_M  SeniorCitizen_Y  \\\n",
       "0    1.0  0.518765        1.199763      1.084916       1.0              0.0   \n",
       "1    0.0  0.192300       -0.648933     -0.303180       0.0              0.0   \n",
       "2    0.0  1.212503        1.306451      1.901170       1.0              0.0   \n",
       "3    1.0 -1.072750       -0.563916     -0.871316       0.0              0.0   \n",
       "4    0.0 -0.827902        0.281250     -0.640643       1.0              1.0   \n",
       "\n",
       "   Partner_Yes  Dependents_Yes  PhoneService_Yes  MultipleLines_No_phone  ...  \\\n",
       "0          0.0             0.0               1.0                     0.0  ...   \n",
       "1          1.0             0.0               0.0                     1.0  ...   \n",
       "2          0.0             1.0               1.0                     0.0  ...   \n",
       "3          0.0             0.0               0.0                     1.0  ...   \n",
       "4          0.0             0.0               1.0                     0.0  ...   \n",
       "\n",
       "   StreamingTV_Yes  StreamingMovies_No_internet  StreamingMovies_Yes  \\\n",
       "0              1.0                          0.0                  1.0   \n",
       "1              1.0                          0.0                  0.0   \n",
       "2              1.0                          0.0                  1.0   \n",
       "3              1.0                          0.0                  1.0   \n",
       "4              0.0                          0.0                  0.0   \n",
       "\n",
       "   Contract_One_year  Contract_Two_years  PaperlessBilling_Yes  \\\n",
       "0                0.0                 0.0                   1.0   \n",
       "1                0.0                 1.0                   0.0   \n",
       "2                0.0                 1.0                   1.0   \n",
       "3                0.0                 0.0                   1.0   \n",
       "4                0.0                 0.0                   1.0   \n",
       "\n",
       "   PaymentMethod_Credit_card  PaymentMethod_Electronic_check  \\\n",
       "0                        1.0                             0.0   \n",
       "1                        0.0                             1.0   \n",
       "2                        0.0                             1.0   \n",
       "3                        0.0                             1.0   \n",
       "4                        1.0                             0.0   \n",
       "\n",
       "   PaymentMethod_Mailed_check  pred  \n",
       "0                         0.0     0  \n",
       "1                         0.0     0  \n",
       "2                         0.0     0  \n",
       "3                         0.0     1  \n",
       "4                         0.0     1  \n",
       "\n",
       "[5 rows x 32 columns]"
      ]
     },
     "execution_count": 13,
     "metadata": {},
     "output_type": "execute_result"
    }
   ],
   "source": [
    "test = pd.read_csv(f\"{bucket_path}/{input_data_path}/test/test.csv\")\n",
    "predictions = predict(test.to_numpy()[:, 1:])\n",
    "predictions = np.array([float(num) for num in predictions])\n",
    "test['pred'] = predictions\n",
    "test['pred'] = test['pred'].astype('float')\n",
    "test['pred'] = (test['pred'] > 0.4).astype(int)\n",
    "test.head() "
   ]
  },
  {
   "cell_type": "code",
   "execution_count": 14,
   "id": "92a91631-5a2d-488f-84ea-81863bd64626",
   "metadata": {
    "tags": []
   },
   "outputs": [
    {
     "name": "stdout",
     "output_type": "stream",
     "text": [
      "              precision    recall  f1-score   support\n",
      "\n",
      "         0.0       0.84      0.86      0.85       300\n",
      "         1.0       0.63      0.58      0.61       122\n",
      "\n",
      "    accuracy                           0.78       422\n",
      "   macro avg       0.73      0.72      0.73       422\n",
      "weighted avg       0.78      0.78      0.78       422\n",
      "\n"
     ]
    }
   ],
   "source": [
    "cr = classification_report(test['Churn'], test['pred'])\n",
    "print(cr)"
   ]
  },
  {
   "cell_type": "markdown",
   "id": "7802759c-3e46-46ce-b64c-0a0315e968bb",
   "metadata": {},
   "source": [
    "#### Delete endpoint:"
   ]
  },
  {
   "cell_type": "code",
   "execution_count": 15,
   "id": "76a54267-b1f4-4c83-8c08-ab5f06abc98e",
   "metadata": {
    "tags": []
   },
   "outputs": [],
   "source": [
    "xgb_predictor.delete_endpoint()"
   ]
  },
  {
   "cell_type": "markdown",
   "id": "35392cfe-7a23-479f-8d72-26f15e50a10c",
   "metadata": {},
   "source": [
    "#### Register model:"
   ]
  },
  {
   "cell_type": "code",
   "execution_count": 25,
   "id": "8f5fc5be-91f3-41f4-8fb9-6f169d4310cf",
   "metadata": {
    "tags": []
   },
   "outputs": [],
   "source": [
    "best_training_job_name = tuner.best_training_job()"
   ]
  },
  {
   "cell_type": "code",
   "execution_count": 26,
   "id": "3f4cb36c-39e8-418d-843c-c45991f80b97",
   "metadata": {
    "tags": []
   },
   "outputs": [],
   "source": [
    "sagemaker_client = boto3.client('sagemaker', region_name=region)\n",
    "best_job_description = sagemaker_client.describe_training_job(TrainingJobName=best_training_job_name)\n",
    "model_artifacts_s3_uri = best_job_description['ModelArtifacts']['S3ModelArtifacts']"
   ]
  },
  {
   "cell_type": "code",
   "execution_count": 27,
   "id": "a70b76e5-6720-4641-b568-91949b6d2c53",
   "metadata": {
    "tags": []
   },
   "outputs": [
    {
     "data": {
      "text/plain": [
       "'s3://markos-telco-churn/hyp/hyp-2023-10-18-17-03-43/hyp-2023-10-18-17-03-231018-1703-001-1b1e13f2/output/model.tar.gz'"
      ]
     },
     "execution_count": 27,
     "metadata": {},
     "output_type": "execute_result"
    }
   ],
   "source": [
    "model_artifacts_s3_uri"
   ]
  },
  {
   "cell_type": "code",
   "execution_count": 35,
   "id": "4e3d4849-c483-4e11-a4a6-981ab0469fa6",
   "metadata": {
    "tags": []
   },
   "outputs": [],
   "source": [
    "model_package_group_name = 'test2'\n",
    "\n",
    "# Create the model package group\n",
    "response = boto3.client('sagemaker').create_model_package_group(\n",
    "    ModelPackageGroupName=model_package_group_name,\n",
    "    ModelPackageGroupDescription='Description for the model package group'\n",
    ")"
   ]
  },
  {
   "cell_type": "code",
   "execution_count": 32,
   "id": "45507b55-bd1c-43c5-8811-cf4a3bfd6c25",
   "metadata": {
    "tags": []
   },
   "outputs": [],
   "source": [
    "modelpackage_inference_specification =  {\n",
    "    \"InferenceSpecification\": {\n",
    "      \"Containers\": [\n",
    "         {\n",
    "            \"Image\": container,\n",
    "\t    \"ModelDataUrl\": model_artifacts_s3_uri\n",
    "         }\n",
    "      ],\n",
    "      \"SupportedContentTypes\": [ \"text/csv\" ],\n",
    "      \"SupportedResponseMIMETypes\": [ \"text/csv\" ],\n",
    "   }\n",
    " }\n",
    "\n",
    "create_model_package_input_dict = {\n",
    "    \"ModelPackageGroupName\" :\"test\",\n",
    "    \"ModelPackageDescription\" : \"Telco churn model (with hyperparameter tunning)\",\n",
    "    \"ModelApprovalStatus\" : \"PendingManualApproval\"\n",
    "}\n",
    "create_model_package_input_dict.update(modelpackage_inference_specification)"
   ]
  },
  {
   "cell_type": "code",
   "execution_count": 33,
   "id": "03a97dc3-5dce-4666-96a8-b3a1033137f4",
   "metadata": {
    "tags": []
   },
   "outputs": [
    {
     "name": "stdout",
     "output_type": "stream",
     "text": [
      "ModelPackage Version ARN : arn:aws:sagemaker:us-east-1:204113162030:model-package/test/1\n"
     ]
    }
   ],
   "source": [
    "sm_client = boto3.client('sagemaker', region_name=region)\n",
    "create_model_package_response = sm_client.create_model_package(**create_model_package_input_dict)\n",
    "model_package_arn = create_model_package_response[\"ModelPackageArn\"]\n",
    "print('ModelPackage Version ARN : {}'.format(model_package_arn))"
   ]
  },
  {
   "cell_type": "code",
   "execution_count": null,
   "id": "7c447908-b5a1-412a-ab81-39aa36bbaf22",
   "metadata": {},
   "outputs": [],
   "source": [
    "# delete group"
   ]
  },
  {
   "cell_type": "code",
   "execution_count": 40,
   "id": "81288e5b-a7e8-43ac-b42c-64a73a91ab03",
   "metadata": {
    "tags": []
   },
   "outputs": [
    {
     "name": "stdout",
     "output_type": "stream",
     "text": [
      "Model Registry Group Churn-Xgboost deleted successfully.\n"
     ]
    }
   ],
   "source": [
    "try:\n",
    "    # Delete the Model Registry Group\n",
    "    sagemaker_client.delete_model_package_group(ModelPackageGroupName=\"test\")\n",
    "    print(f\"Model Registry Group Churn-Xgboost deleted successfully.\")\n",
    "except Exception as e:\n",
    "    print(f\"Error deleting Model Registry Group: {e}\")"
   ]
  },
  {
   "cell_type": "markdown",
   "id": "ed7d38c4-f23c-45cd-a727-55f0e2e8acef",
   "metadata": {
    "tags": []
   },
   "source": [
    "## Clarify"
   ]
  },
  {
   "cell_type": "code",
   "execution_count": 17,
   "id": "8d2f16c5-59ae-4c04-8d7b-4607cb989e53",
   "metadata": {
    "tags": []
   },
   "outputs": [],
   "source": [
    "from sagemaker.s3 import S3Uploader\n",
    "from sagemaker.inputs import TrainingInput\n",
    "\n",
    "prefix = \"clarify\"\n",
    "bias_report_output_path = \"s3://{}/{}/clarify-bias\".format(bucket, prefix)\n",
    "train_uri = \"s3://markos-telco-churn/ingest/ingest-2023-10-14-21-32-51/train/train.csv\"\n",
    "train_input = TrainingInput(train_uri, content_type=\"csv\")\n",
    "test_uri = \"s3://markos-telco-churn/ingest/ingest-2023-10-14-21-32-51/test/test.csv\"\n",
    "train_df = pd.read_csv(train_uri)\n",
    "test_df = pd.read_csv(test_uri)"
   ]
  },
  {
   "cell_type": "code",
   "execution_count": 18,
   "id": "ff3965fc-b1ec-4cfc-9821-3df07e00e5c7",
   "metadata": {
    "tags": []
   },
   "outputs": [
    {
     "name": "stdout",
     "output_type": "stream",
     "text": [
      "sagemaker.config INFO - Not applying SDK defaults from location: /etc/xdg/sagemaker/config.yaml\n",
      "sagemaker.config INFO - Not applying SDK defaults from location: /root/.config/sagemaker/config.yaml\n"
     ]
    }
   ],
   "source": [
    "best_training_job = tuner.best_training_job()\n",
    "best_model_s3_uri = sagemaker.Session().describe_training_job(best_training_job)['ModelArtifacts']['S3ModelArtifacts']"
   ]
  },
  {
   "cell_type": "markdown",
   "id": "ccb1ab6f-7870-4d84-9509-0b623b43ba64",
   "metadata": {},
   "source": [
    "#### Preprocess the data \n",
    "\n",
    "For clarify we choose one column for which we want to calculate the bias.\n",
    "In this example it is Gender.\n",
    "\n",
    "Columns that are non continues need to be converted to int otherwise th\n",
    "The columns that are needed to checked for bias are needed to be converted to int since in our dataset\n",
    "this columns are not continues (one hot encoded) and clarify needs non-continues columns to be integers and not floats."
   ]
  },
  {
   "cell_type": "code",
   "execution_count": 19,
   "id": "102f6350-100e-43c5-80a8-c0cbb70b64f2",
   "metadata": {
    "tags": []
   },
   "outputs": [],
   "source": [
    "from sklearn import preprocessing\n",
    "\n",
    "\n",
    "def number_encode_features(df, convert_to_int_list):\n",
    "    result = df.copy()\n",
    "    encoders = {}\n",
    "    for column in result.columns:\n",
    "        if column in convert_to_int_list:\n",
    "            result[column] = pd.to_numeric(result[column], errors='coerce').fillna(0).astype(int)\n",
    "        if result.dtypes[column] == object:\n",
    "            encoders[column] = preprocessing.LabelEncoder()\n",
    "            result[column] = encoders[column].fit_transform(result[column].fillna(\"None\"))\n",
    "    return result, encoders\n",
    "\n",
    "\n",
    "training_data = pd.concat([train_df[\"Churn\"], train_df.drop([\"Churn\"], axis=1)], axis=1)\n",
    "training_data, _ = number_encode_features(training_data, ['gender_M', 'Churn'])\n",
    "training_data.to_csv(\"train_data.csv\", index=False, header=False)\n",
    "\n",
    "testing_data, _ = number_encode_features(test_df, ['gender_M', 'Churn'])\n",
    "test_features = testing_data.drop([\"Churn\"], axis=1)\n",
    "test_target = testing_data[\"Churn\"]\n",
    "test_features.to_csv(\"test_features.csv\", index=False, header=False)"
   ]
  },
  {
   "cell_type": "code",
   "execution_count": 20,
   "id": "2e029f8e-0580-4c33-9984-76c72a1ba2ad",
   "metadata": {
    "tags": []
   },
   "outputs": [
    {
     "name": "stdout",
     "output_type": "stream",
     "text": [
      "sagemaker.config INFO - Not applying SDK defaults from location: /etc/xdg/sagemaker/config.yaml\n",
      "sagemaker.config INFO - Not applying SDK defaults from location: /root/.config/sagemaker/config.yaml\n",
      "sagemaker.config INFO - Not applying SDK defaults from location: /etc/xdg/sagemaker/config.yaml\n",
      "sagemaker.config INFO - Not applying SDK defaults from location: /root/.config/sagemaker/config.yaml\n"
     ]
    }
   ],
   "source": [
    "from sagemaker.s3 import S3Uploader\n",
    "from sagemaker.inputs import TrainingInput\n",
    "\n",
    "train_uri = S3Uploader.upload(\"train_data.csv\", \"s3://{}/{}\".format(bucket, prefix))\n",
    "train_input = TrainingInput(train_uri, content_type=\"csv\")\n",
    "test_uri = S3Uploader.upload(\"test_features.csv\", \"s3://{}/{}\".format(bucket, prefix))"
   ]
  },
  {
   "cell_type": "code",
   "execution_count": 99,
   "id": "a465666a-e006-4696-98eb-b8018414068c",
   "metadata": {
    "tags": []
   },
   "outputs": [],
   "source": [
    "#sagemaker.Session().delete_endpoint(clarify_model_name)"
   ]
  },
  {
   "cell_type": "code",
   "execution_count": 21,
   "id": "bf72cac3-eaf9-4f99-a2af-ef2e34f2f9aa",
   "metadata": {
    "tags": []
   },
   "outputs": [
    {
     "name": "stdout",
     "output_type": "stream",
     "text": [
      "sagemaker.config INFO - Not applying SDK defaults from location: /etc/xdg/sagemaker/config.yaml\n",
      "sagemaker.config INFO - Not applying SDK defaults from location: /root/.config/sagemaker/config.yaml\n"
     ]
    },
    {
     "name": "stderr",
     "output_type": "stream",
     "text": [
      "Using already existing model: clarify-model\n"
     ]
    },
    {
     "data": {
      "text/plain": [
       "'clarify-model'"
      ]
     },
     "execution_count": 21,
     "metadata": {},
     "output_type": "execute_result"
    }
   ],
   "source": [
    "clarify_model_name = \"clarify-model\"\n",
    "model = sagemaker.model.Model(\n",
    "    model_data=best_model_s3_uri,\n",
    "    image_uri=container,  # Replace with the URI for the model's container\n",
    "    role=role,\n",
    "    name = clarify_model_name\n",
    ")\n",
    "container_def = model.prepare_container_def()\n",
    "sess.create_model(clarify_model_name, role, container_def)\n",
    "#model.name = clarify_model_name\n",
    "#model.deploy(instance_type='ml.m4.xlarge',  initial_instance_count=1,  endpoint_name=clarify_model_name)"
   ]
  },
  {
   "cell_type": "code",
   "execution_count": null,
   "id": "3ae5d876-8586-40e7-b5c2-766fc6d58f17",
   "metadata": {
    "tags": []
   },
   "outputs": [],
   "source": [
    "#sagemaker.Session().delete_endpoint('clarify-model')"
   ]
  },
  {
   "cell_type": "code",
   "execution_count": 22,
   "id": "12df06e9-667a-48ab-a41b-7e1511344baa",
   "metadata": {
    "tags": []
   },
   "outputs": [],
   "source": [
    "from sagemaker import clarify\n",
    "from sagemaker.clarify import BiasConfig\n",
    "\n",
    "clarify_processor = clarify.SageMakerClarifyProcessor(role=role,\n",
    "                                                      instance_count=1,\n",
    "                                                      instance_type='ml.m4.xlarge',\n",
    "                                                      sagemaker_session=sess)\n",
    "\n",
    "bias_data_config = clarify.DataConfig(\n",
    "    s3_data_input_path=train_uri,\n",
    "    s3_output_path=bias_report_output_path,\n",
    "    label=\"Churn\",\n",
    "    headers=train_df.columns.to_list(),\n",
    "    dataset_type=\"text/csv\",\n",
    ")\n",
    "\n",
    "model_config = clarify.ModelConfig(\n",
    "    model_name=clarify_model_name,\n",
    "    instance_type=\"ml.m4.xlarge\",\n",
    "    instance_count=1,\n",
    "    accept_type=\"text/csv\",\n",
    "    content_type=\"text/csv\",\n",
    ")\n",
    "\n",
    "predictions_config = clarify.ModelPredictedLabelConfig(probability_threshold=0.8)\n",
    "\n",
    "\n",
    "bias_config = clarify.BiasConfig(\n",
    "    label_values_or_threshold=[1],  \n",
    "    facet_name=\"gender_M\", \n",
    "    facet_values_or_threshold=[0]\n",
    ")"
   ]
  },
  {
   "cell_type": "code",
   "execution_count": 23,
   "id": "2ca68aa1-d528-4373-9701-0c870ece2515",
   "metadata": {
    "tags": []
   },
   "outputs": [
    {
     "name": "stderr",
     "output_type": "stream",
     "text": [
      "INFO:sagemaker:Creating processing-job with name Clarify-Bias-2023-10-18-17-36-56-038\n"
     ]
    },
    {
     "name": "stdout",
     "output_type": "stream",
     "text": [
      "...........................................\u001b[34m2023-10-18 17:44:01,713 logging.conf not found when configuring logging, using default logging configuration.\u001b[0m\n",
      "\u001b[34m2023-10-18 17:44:01,714 Starting SageMaker Clarify Processing job\u001b[0m\n",
      "\u001b[34m2023-10-18 17:44:01,714 Analysis config path: /opt/ml/processing/input/config/analysis_config.json\u001b[0m\n",
      "\u001b[34m2023-10-18 17:44:01,714 Analysis result path: /opt/ml/processing/output\u001b[0m\n",
      "\u001b[34m2023-10-18 17:44:01,715 This host is algo-1.\u001b[0m\n",
      "\u001b[34m2023-10-18 17:44:01,715 This host is the leader.\u001b[0m\n",
      "\u001b[34m2023-10-18 17:44:01,715 Number of hosts in the cluster is 1.\u001b[0m\n",
      "\u001b[34m2023-10-18 17:44:02,035 Running Python / Pandas based analyzer.\u001b[0m\n",
      "\u001b[34m2023-10-18 17:44:02,035 Dataset type: text/csv uri: /opt/ml/processing/input/data\u001b[0m\n",
      "\u001b[34m2023-10-18 17:44:02,048 Loading dataset...\u001b[0m\n",
      "\u001b[34m/usr/local/lib/python3.9/site-packages/analyzer/data_loading/csv_data_loader.py:336: FutureWarning: The frame.append method is deprecated and will be removed from pandas in a future version. Use pandas.concat instead.\n",
      "  df = df.append(df_tmp, ignore_index=True)\u001b[0m\n",
      "\u001b[34m2023-10-18 17:44:02,079 Loaded dataset. Dataset info:\u001b[0m\n",
      "\u001b[34m<class 'pandas.core.frame.DataFrame'>\u001b[0m\n",
      "\u001b[34mRangeIndex: 4922 entries, 0 to 4921\u001b[0m\n",
      "\u001b[34mData columns (total 30 columns):\n",
      " #   Column                          Non-Null Count  Dtype  \u001b[0m\n",
      "\u001b[34m---  ------                          --------------  -----  \n",
      " 0   tenure                          4922 non-null   float64\n",
      " 1   MonthlyCharges                  4922 non-null   float64\n",
      " 2   TotalCharges                    4922 non-null   float64\n",
      " 3   gender_M                        4922 non-null   int64  \n",
      " 4   SeniorCitizen_Y                 4922 non-null   float64\n",
      " 5   Partner_Yes                     4922 non-null   float64\n",
      " 6   Dependents_Yes                  4922 non-null   float64\n",
      " 7   PhoneService_Yes                4922 non-null   float64\n",
      " 8   MultipleLines_No_phone          4922 non-null   float64\n",
      " 9   MultipleLines_Yes               4922 non-null   float64\n",
      " 10  InternetService_Fiber           4922 non-null   float64\n",
      " 11  InternetService_No              4922 non-null   float64\n",
      " 12  OnlineSecurity_No_internet      4922 non-null   float64\n",
      " 13  OnlineSecurity_Yes              4922 non-null   float64\n",
      " 14  OnlineBackup_No_internet        4922 non-null   float64\n",
      " 15  OnlineBackup_Yes                4922 non-null   float64\n",
      " 16  DeviceProtection_No_internet    4922 non-null   float64\n",
      " 17  DeviceProtection_Yes            4922 non-null   float64\n",
      " 18  TechSupport_No_internet         4922 non-null   float64\n",
      " 19  TechSupport_Yes                 4922 non-null   float64\n",
      " 20  StreamingTV_No_internet         4922 non-null   float64\n",
      " 21  StreamingTV_Yes                 4922 non-null   float64\n",
      " 22  StreamingMovies_No_internet     4922 non-null   float64\n",
      " 23  StreamingMovies_Yes             4922 non-null   float64\n",
      " 24  Contract_One_year               4922 non-null   float64\n",
      " 25  Contract_Two_years              4922 non-null   float64\n",
      " 26  PaperlessBilling_Yes            4922 non-null   float64\n",
      " 27  PaymentMethod_Credit_card       4922 non-null   float64\n",
      " 28  PaymentMethod_Electronic_check  4922 non-null   float64\n",
      " 29  PaymentMethod_Mailed_check      4922 non-null   float64\u001b[0m\n",
      "\u001b[34mdtypes: float64(29), int64(1)\u001b[0m\n",
      "\u001b[34mmemory usage: 1.1 MB\u001b[0m\n",
      "\u001b[34m2023-10-18 17:44:02,188 Spinning up shadow endpoint\u001b[0m\n",
      "\u001b[34m2023-10-18 17:44:02,188 Creating endpoint-config with name sm-clarify-config-1697651042-1032\u001b[0m\n",
      "\u001b[34m2023-10-18 17:44:02,590 Creating endpoint: 'sm-clarify-clarify-model-1697651042-8c50'\u001b[0m\n",
      "\u001b[34m2023-10-18 17:44:02,664 No endpoints ruleset found for service sagemaker-internal, falling back to legacy endpoint routing.\u001b[0m\n",
      "\u001b[34m2023-10-18 17:44:03,218 Using endpoint name: sm-clarify-clarify-model-1697651042-8c50\u001b[0m\n",
      "\u001b[34m2023-10-18 17:44:03,219 Waiting for endpoint ...\u001b[0m\n",
      "\u001b[34m2023-10-18 17:44:03,219 Checking endpoint status:\u001b[0m\n",
      "\u001b[34mLegend:\u001b[0m\n",
      "\u001b[34m(OutOfService: x, Creating: -, Updating: -, InService: !, RollingBack: <, Deleting: o, Failed: *)\u001b[0m\n",
      "\u001b[34m2023-10-18 17:48:04,021 Endpoint is in service after 241 seconds\u001b[0m\n",
      "\u001b[34m2023-10-18 17:48:04,021 Endpoint ready.\u001b[0m\n",
      "\u001b[34m2023-10-18 17:48:04,021 ======================================\u001b[0m\n",
      "\u001b[34m2023-10-18 17:48:04,021 Calculating post-training bias metrics\u001b[0m\n",
      "\u001b[34m2023-10-18 17:48:04,021 ======================================\u001b[0m\n",
      "\u001b[34m2023-10-18 17:48:04,022 Getting predictions from the endpoint\u001b[0m\n",
      "\u001b[34m2023-10-18 17:48:04,872 We assume a prediction above 0.800 indicates 1 and below or equal indicates 0.\u001b[0m\n",
      "\u001b[34m2023-10-18 17:48:04,873 Column Churn with data uniqueness fraction 0.0004063388866314506 is classifed as a CATEGORICAL column\u001b[0m\n",
      "\u001b[34m2023-10-18 17:48:04,875 Column gender_M with data uniqueness fraction 0.0004063388866314506 is classifed as a CATEGORICAL column\u001b[0m\n",
      "\u001b[34m/usr/local/lib/python3.9/site-packages/smclarify/bias/report.py:591: FutureWarning: In a future version of pandas all arguments of DataFrame.drop except for the argument 'labels' will be keyword-only.\n",
      "  df = df.drop(facet_column.name, 1)\u001b[0m\n",
      "\u001b[34m2023-10-18 17:48:04,877 Column Churn with data uniqueness fraction 0.0004063388866314506 is classifed as a CATEGORICAL column\u001b[0m\n",
      "\u001b[34m2023-10-18 17:48:04,879 Column None with data uniqueness fraction 0.0004063388866314506 is classifed as a CATEGORICAL column\u001b[0m\n",
      "\u001b[34m2023-10-18 17:48:04,885 CDDPL metrics failed\u001b[0m\n",
      "\u001b[34mTraceback (most recent call last):\n",
      "  File \"/usr/local/lib/python3.9/site-packages/smclarify/bias/report.py\", line 323, in _categorical_metric_call_wrapper\n",
      "    metric_value = smclarify.bias.metrics.call_metric(\n",
      "  File \"/usr/local/lib/python3.9/site-packages/smclarify/bias/metrics/__init__.py\", line 27, in call_metric\n",
      "    return metric(**{key: kwargs[key] for key in inspect.signature(metric).parameters.keys()})\n",
      "  File \"/usr/local/lib/python3.9/site-packages/smclarify/bias/metrics/posttraining.py\", line 277, in CDDPL\n",
      "    return common.CDD(feature, sensitive_facet_index, positive_predicted_label_index, group_variable)\n",
      "  File \"/usr/local/lib/python3.9/site-packages/smclarify/bias/metrics/common.py\", line 100, in CDD\n",
      "    raise ValueError(\"Group variable is empty or not provided\")\u001b[0m\n",
      "\u001b[34mValueError: Group variable is empty or not provided\u001b[0m\n",
      "\u001b[34m2023-10-18 17:48:05,315 Calculated global analysis with predictor\u001b[0m\n",
      "\u001b[34m2023-10-18 17:48:05,315 Stop using endpoint: sm-clarify-clarify-model-1697651042-8c50\u001b[0m\n",
      "\u001b[34m2023-10-18 17:48:05,316 Deleting endpoint configuration with name: sm-clarify-config-1697651042-1032\u001b[0m\n",
      "\u001b[34m2023-10-18 17:48:05,473 Deleting endpoint with name: sm-clarify-clarify-model-1697651042-8c50\u001b[0m\n",
      "\u001b[34m2023-10-18 17:48:05,576 Model endpoint delivered 1.54516 requests per second and a total of 2 requests over 1 seconds\u001b[0m\n",
      "\u001b[34m2023-10-18 17:48:05,577 =====================================\u001b[0m\n",
      "\u001b[34m2023-10-18 17:48:05,577 Calculating pre-training bias metrics\u001b[0m\n",
      "\u001b[34m2023-10-18 17:48:05,577 =====================================\u001b[0m\n",
      "\u001b[34m2023-10-18 17:48:05,578 Column Churn with data uniqueness fraction 0.0004063388866314506 is classifed as a CATEGORICAL column\u001b[0m\n",
      "\u001b[34m2023-10-18 17:48:05,580 Column gender_M with data uniqueness fraction 0.0004063388866314506 is classifed as a CATEGORICAL column\u001b[0m\n",
      "\u001b[34m/usr/local/lib/python3.9/site-packages/smclarify/bias/report.py:591: FutureWarning: In a future version of pandas all arguments of DataFrame.drop except for the argument 'labels' will be keyword-only.\n",
      "  df = df.drop(facet_column.name, 1)\u001b[0m\n",
      "\u001b[34m2023-10-18 17:48:05,583 Column Churn with data uniqueness fraction 0.0004063388866314506 is classifed as a CATEGORICAL column\u001b[0m\n",
      "\u001b[34m2023-10-18 17:48:05,585 CDDL metrics failed\u001b[0m\n",
      "\u001b[34mTraceback (most recent call last):\n",
      "  File \"/usr/local/lib/python3.9/site-packages/smclarify/bias/report.py\", line 323, in _categorical_metric_call_wrapper\n",
      "    metric_value = smclarify.bias.metrics.call_metric(\n",
      "  File \"/usr/local/lib/python3.9/site-packages/smclarify/bias/metrics/__init__.py\", line 27, in call_metric\n",
      "    return metric(**{key: kwargs[key] for key in inspect.signature(metric).parameters.keys()})\n",
      "  File \"/usr/local/lib/python3.9/site-packages/smclarify/bias/metrics/pretraining.py\", line 195, in CDDL\n",
      "    return common.CDD(feature, sensitive_facet_index, positive_label_index, group_variable)\n",
      "  File \"/usr/local/lib/python3.9/site-packages/smclarify/bias/metrics/common.py\", line 100, in CDD\n",
      "    raise ValueError(\"Group variable is empty or not provided\")\u001b[0m\n",
      "\u001b[34mValueError: Group variable is empty or not provided\u001b[0m\n",
      "\u001b[34m2023-10-18 17:48:05,617 ======================================\u001b[0m\n",
      "\u001b[34m2023-10-18 17:48:05,617 Calculating bias statistics for report\u001b[0m\n",
      "\u001b[34m2023-10-18 17:48:05,617 ======================================\u001b[0m\n",
      "\u001b[34m2023-10-18 17:48:05,618 Column Churn with data uniqueness fraction 0.0004063388866314506 is classifed as a CATEGORICAL column\u001b[0m\n",
      "\u001b[34m2023-10-18 17:48:05,620 Column gender_M with data uniqueness fraction 0.0004063388866314506 is classifed as a CATEGORICAL column\u001b[0m\n",
      "\u001b[34m/usr/local/lib/python3.9/site-packages/smclarify/bias/report.py:591: FutureWarning: In a future version of pandas all arguments of DataFrame.drop except for the argument 'labels' will be keyword-only.\n",
      "  df = df.drop(facet_column.name, 1)\u001b[0m\n",
      "\u001b[34m2023-10-18 17:48:05,622 Column Churn with data uniqueness fraction 0.0004063388866314506 is classifed as a CATEGORICAL column\u001b[0m\n",
      "\u001b[34m2023-10-18 17:48:05,624 Column None with data uniqueness fraction 0.0004063388866314506 is classifed as a CATEGORICAL column\u001b[0m\n",
      "\u001b[34m2023-10-18 17:48:05,629 Column Churn with data uniqueness fraction 0.0004063388866314506 is classifed as a CATEGORICAL column\u001b[0m\n",
      "\u001b[34m2023-10-18 17:48:05,631 Column None with data uniqueness fraction 0.0004063388866314506 is classifed as a CATEGORICAL column\u001b[0m\n",
      "\u001b[34m2023-10-18 17:48:05,642 Converting Pandas DataFrame to SparkDataFrame for computing report metadata\u001b[0m\n",
      "\u001b[34m---!17:48:07.795 [main] WARN  o.a.hadoop.util.NativeCodeLoader - Unable to load native-hadoop library for your platform... using builtin-java classes where applicable\u001b[0m\n",
      "\u001b[34m17:48:13.980 [Thread-4] WARN  o.a.spark.sql.catalyst.util.package - Truncated the string representation of a plan since it was too large. This behavior can be adjusted by setting 'spark.sql.debug.maxToStringFields'.\u001b[0m\n",
      "\u001b[34m#015[Stage 0:>                                                          (0 + 4) / 4]#015#015                                                                                #015#015[Stage 3:>                                                          (0 + 4) / 4]#015#015                                                                                #0152023-10-18 17:48:21,446 Calculated global analysis without predictor\u001b[0m\n",
      "\u001b[34m2023-10-18 17:48:21,447 Stop using endpoint: None\u001b[0m\n",
      "\u001b[34m2023-10-18 17:48:22,437 ['jupyter', 'nbconvert', '--to', 'html', '--output', '/opt/ml/processing/output/report.html', '/opt/ml/processing/output/report.ipynb', '--template', 'sagemaker-xai']\u001b[0m\n",
      "\u001b[34m[NbConvertApp] Converting notebook /opt/ml/processing/output/report.ipynb to html\u001b[0m\n",
      "\u001b[34m[NbConvertApp] Writing 742955 bytes to /opt/ml/processing/output/report.html\u001b[0m\n",
      "\u001b[34m2023-10-18 17:48:23,935 ['wkhtmltopdf', '-q', '--enable-local-file-access', '/opt/ml/processing/output/report.html', '/opt/ml/processing/output/report.pdf']\u001b[0m\n",
      "\u001b[34m2023-10-18 17:48:25,160 Collected analyses: \u001b[0m\n",
      "\u001b[34m{\n",
      "    \"version\": \"1.0\",\n",
      "    \"post_training_bias_metrics\": {\n",
      "        \"label\": \"Churn\",\n",
      "        \"facets\": {\n",
      "            \"gender_M\": [\n",
      "                {\n",
      "                    \"value_or_threshold\": \"0\",\n",
      "                    \"metrics\": [\n",
      "                        {\n",
      "                            \"name\": \"AD\",\n",
      "                            \"description\": \"Accuracy Difference (AD)\",\n",
      "                            \"value\": -0.004663906783948568\n",
      "                        },\n",
      "                        {\n",
      "                            \"name\": \"CDDPL\",\n",
      "                            \"description\": \"Conditional Demographic Disparity in Predicted Labels (CDDPL)\",\n",
      "                            \"value\": null,\n",
      "                            \"error\": \"Group variable is empty or not provided\"\n",
      "                        },\n",
      "                        {\n",
      "                            \"name\": \"DAR\",\n",
      "                            \"description\": \"Difference in Acceptance Rates (DAR)\",\n",
      "                            \"value\": 0.002907801418439715\n",
      "                        },\n",
      "                        {\n",
      "                            \"name\": \"DCA\",\n",
      "                            \"description\": \"Difference in Conditional Acceptance (DCA)\",\n",
      "                            \"value\": 0.13978723404255344\n",
      "                        },\n",
      "                        {\n",
      "                            \"name\": \"DCR\",\n",
      "                            \"description\": \"Difference in Conditional Rejection (DCR)\",\n",
      "                            \"value\": 0.004564681614944055\n",
      "                        },\n",
      "                        {\n",
      "                            \"name\": \"DI\",\n",
      "                            \"description\": \"Disparate Impact (DI)\",\n",
      "                            \"value\": 1.0768775769384666\n",
      "                        },\n",
      "                        {\n",
      "                            \"name\": \"DPPL\",\n",
      "                            \"description\": \"Difference in Positive Proportions in Predicted Labels (DPPL)\",\n",
      "                            \"value\": -0.008755846808015985\n",
      "                        },\n",
      "                        {\n",
      "                            \"name\": \"DRR\",\n",
      "                            \"description\": \"Difference in Rejection Rates (DRR)\",\n",
      "                            \"value\": 0.004078308969391209\n",
      "                        },\n",
      "                        {\n",
      "                            \"name\": \"FT\",\n",
      "                            \"description\": \"Flip Test (FT)\",\n",
      "                            \"value\": 0.015126737530662305\n",
      "                        },\n",
      "                        {\n",
      "                            \"name\": \"GE\",\n",
      "                            \"description\": \"Generalized Entropy (GE)\",\n",
      "                            \"value\": 0.08875262729193835\n",
      "                        },\n",
      "                        {\n",
      "                            \"name\": \"RD\",\n",
      "                            \"description\": \"Recall Difference (RD)\",\n",
      "                            \"value\": -0.0258751902587519\n",
      "                        },\n",
      "                        {\n",
      "                            \"name\": \"SD\",\n",
      "                            \"description\": \"Specificity Difference (SD)\",\n",
      "                            \"value\": -0.0005774092547118359\n",
      "                        },\n",
      "                        {\n",
      "                            \"name\": \"TE\",\n",
      "                            \"description\": \"Treatment Equality (TE)\",\n",
      "                            \"value\": -68.5\n",
      "                        }\n",
      "                    ]\n",
      "                }\n",
      "            ]\n",
      "        },\n",
      "        \"label_value_or_threshold\": \"1\"\n",
      "    },\n",
      "    \"pre_training_bias_metrics\": {\n",
      "        \"label\": \"Churn\",\n",
      "        \"facets\": {\n",
      "            \"gender_M\": [\n",
      "                {\n",
      "                    \"value_or_threshold\": \"0\",\n",
      "                    \"metrics\": [\n",
      "                        {\n",
      "                            \"name\": \"CDDL\",\n",
      "                            \"description\": \"Conditional Demographic Disparity in Labels (CDDL)\",\n",
      "                            \"value\": null,\n",
      "                            \"error\": \"Group variable is empty or not provided\"\n",
      "                        },\n",
      "                        {\n",
      "                            \"name\": \"CI\",\n",
      "                            \"description\": \"Class Imbalance (CI)\",\n",
      "                            \"value\": 0.006095083299471759\n",
      "                        },\n",
      "                        {\n",
      "                            \"name\": \"DPL\",\n",
      "                            \"description\": \"Difference in Positive Proportions in Labels (DPL)\",\n",
      "                            \"value\": -0.003254464444934657\n",
      "                        },\n",
      "                        {\n",
      "                            \"name\": \"JS\",\n",
      "                            \"description\": \"Jensen-Shannon Divergence (JS)\",\n",
      "                            \"value\": 6.765224426292702e-06\n",
      "                        },\n",
      "                        {\n",
      "                            \"name\": \"KL\",\n",
      "                            \"description\": \"Kullback-Liebler Divergence (KL)\",\n",
      "                            \"value\": 2.7026070298134374e-05\n",
      "                        },\n",
      "                        {\n",
      "                            \"name\": \"KS\",\n",
      "                            \"description\": \"Kolmogorov-Smirnov Distance (KS)\",\n",
      "                            \"value\": 0.003254464444934657\n",
      "                        },\n",
      "                        {\n",
      "                            \"name\": \"LP\",\n",
      "                            \"description\": \"L-p Norm (LP)\",\n",
      "                            \"value\": 0.004602507756287579\n",
      "                        },\n",
      "                        {\n",
      "                            \"name\": \"TVD\",\n",
      "                            \"description\": \"Total Variation Distance (TVD)\",\n",
      "                            \"value\": 0.0032544644449346294\n",
      "                        }\n",
      "                    ]\n",
      "                }\n",
      "            ]\n",
      "        },\n",
      "        \"label_value_or_threshold\": \"1\"\n",
      "    }\u001b[0m\n",
      "\u001b[34m}\u001b[0m\n",
      "\u001b[34m2023-10-18 17:48:25,161 exit_message: Completed: SageMaker XAI Analyzer ran successfully\u001b[0m\n",
      "\n"
     ]
    }
   ],
   "source": [
    "# The job takes about 10 minutes to run\n",
    "clarify_processor.run_bias(\n",
    "    data_config=bias_data_config,\n",
    "    bias_config=bias_config,\n",
    "    model_config=model_config,\n",
    "    model_predicted_label_config=predictions_config,\n",
    "    pre_training_methods=\"all\",\n",
    "    post_training_methods=\"all\",\n",
    ")"
   ]
  },
  {
   "cell_type": "code",
   "execution_count": 24,
   "id": "a3a47b10-836d-4702-a546-6f1fb7d0ddae",
   "metadata": {
    "tags": []
   },
   "outputs": [
    {
     "ename": "AttributeError",
     "evalue": "'SageMakerClarifyProcessor' object has no attribute 'output_path'",
     "output_type": "error",
     "traceback": [
      "\u001b[0;31m---------------------------------------------------------------------------\u001b[0m",
      "\u001b[0;31mAttributeError\u001b[0m                            Traceback (most recent call last)",
      "Cell \u001b[0;32mIn[24], line 1\u001b[0m\n\u001b[0;32m----> 1\u001b[0m bias_report_output_path \u001b[38;5;241m=\u001b[39m \u001b[43mclarify_processor\u001b[49m\u001b[38;5;241;43m.\u001b[39;49m\u001b[43moutput_path\u001b[49m\n",
      "\u001b[0;31mAttributeError\u001b[0m: 'SageMakerClarifyProcessor' object has no attribute 'output_path'"
     ]
    }
   ],
   "source": [
    "bias_report_output_path = clarify_processor.output_path"
   ]
  },
  {
   "cell_type": "code",
   "execution_count": null,
   "id": "8671ff75-eae4-4afc-b33f-3f6d9702c2bc",
   "metadata": {
    "tags": []
   },
   "outputs": [],
   "source": [
    "#clarify_processor.delete_job(clarify_processor.latest_job_name)\n",
    "#sagemaker.Session().delete_endpoint(clarify_model_name)"
   ]
  },
  {
   "cell_type": "code",
   "execution_count": null,
   "id": "0f722e18-5846-447e-83e8-b82e99b8a140",
   "metadata": {
    "tags": []
   },
   "outputs": [],
   "source": [
    "#sagemaker.Session().delete_endpoint(\"sm-clarify-clarify-model-1697566486-2c00\")"
   ]
  },
  {
   "cell_type": "code",
   "execution_count": 27,
   "id": "c62177cb-237f-413a-ae2d-42f6d70acea1",
   "metadata": {
    "tags": []
   },
   "outputs": [
    {
     "name": "stdout",
     "output_type": "stream",
     "text": [
      "Error deleting endpoint configuration: name 'sagemaker_client' is not defined\n"
     ]
    }
   ],
   "source": [
    "endpoint_config_name = 'clarify-model'\n",
    "try:   \n",
    "    sagemaker_client.delete_endpoint_config(EndpointConfigName=endpoint_config_name)\n",
    "    print(f\"Deleted SageMaker endpoint configuration: {endpoint_config_name}\")\n",
    "except Exception as e:\n",
    "    print(f\"Error deleting endpoint configuration: {e}\")"
   ]
  },
  {
   "cell_type": "code",
   "execution_count": null,
   "id": "e159bf3e-3880-4236-8b7d-3b92880a1696",
   "metadata": {},
   "outputs": [],
   "source": []
  },
  {
   "cell_type": "code",
   "execution_count": null,
   "id": "686268b2-743c-44a8-bdc5-47cc0e8319f1",
   "metadata": {},
   "outputs": [],
   "source": []
  }
 ],
 "metadata": {
  "availableInstances": [
   {
    "_defaultOrder": 0,
    "_isFastLaunch": true,
    "category": "General purpose",
    "gpuNum": 0,
    "hideHardwareSpecs": false,
    "memoryGiB": 4,
    "name": "ml.t3.medium",
    "vcpuNum": 2
   },
   {
    "_defaultOrder": 1,
    "_isFastLaunch": false,
    "category": "General purpose",
    "gpuNum": 0,
    "hideHardwareSpecs": false,
    "memoryGiB": 8,
    "name": "ml.t3.large",
    "vcpuNum": 2
   },
   {
    "_defaultOrder": 2,
    "_isFastLaunch": false,
    "category": "General purpose",
    "gpuNum": 0,
    "hideHardwareSpecs": false,
    "memoryGiB": 16,
    "name": "ml.t3.xlarge",
    "vcpuNum": 4
   },
   {
    "_defaultOrder": 3,
    "_isFastLaunch": false,
    "category": "General purpose",
    "gpuNum": 0,
    "hideHardwareSpecs": false,
    "memoryGiB": 32,
    "name": "ml.t3.2xlarge",
    "vcpuNum": 8
   },
   {
    "_defaultOrder": 4,
    "_isFastLaunch": true,
    "category": "General purpose",
    "gpuNum": 0,
    "hideHardwareSpecs": false,
    "memoryGiB": 8,
    "name": "ml.m5.large",
    "vcpuNum": 2
   },
   {
    "_defaultOrder": 5,
    "_isFastLaunch": false,
    "category": "General purpose",
    "gpuNum": 0,
    "hideHardwareSpecs": false,
    "memoryGiB": 16,
    "name": "ml.m5.xlarge",
    "vcpuNum": 4
   },
   {
    "_defaultOrder": 6,
    "_isFastLaunch": false,
    "category": "General purpose",
    "gpuNum": 0,
    "hideHardwareSpecs": false,
    "memoryGiB": 32,
    "name": "ml.m5.2xlarge",
    "vcpuNum": 8
   },
   {
    "_defaultOrder": 7,
    "_isFastLaunch": false,
    "category": "General purpose",
    "gpuNum": 0,
    "hideHardwareSpecs": false,
    "memoryGiB": 64,
    "name": "ml.m5.4xlarge",
    "vcpuNum": 16
   },
   {
    "_defaultOrder": 8,
    "_isFastLaunch": false,
    "category": "General purpose",
    "gpuNum": 0,
    "hideHardwareSpecs": false,
    "memoryGiB": 128,
    "name": "ml.m5.8xlarge",
    "vcpuNum": 32
   },
   {
    "_defaultOrder": 9,
    "_isFastLaunch": false,
    "category": "General purpose",
    "gpuNum": 0,
    "hideHardwareSpecs": false,
    "memoryGiB": 192,
    "name": "ml.m5.12xlarge",
    "vcpuNum": 48
   },
   {
    "_defaultOrder": 10,
    "_isFastLaunch": false,
    "category": "General purpose",
    "gpuNum": 0,
    "hideHardwareSpecs": false,
    "memoryGiB": 256,
    "name": "ml.m5.16xlarge",
    "vcpuNum": 64
   },
   {
    "_defaultOrder": 11,
    "_isFastLaunch": false,
    "category": "General purpose",
    "gpuNum": 0,
    "hideHardwareSpecs": false,
    "memoryGiB": 384,
    "name": "ml.m5.24xlarge",
    "vcpuNum": 96
   },
   {
    "_defaultOrder": 12,
    "_isFastLaunch": false,
    "category": "General purpose",
    "gpuNum": 0,
    "hideHardwareSpecs": false,
    "memoryGiB": 8,
    "name": "ml.m5d.large",
    "vcpuNum": 2
   },
   {
    "_defaultOrder": 13,
    "_isFastLaunch": false,
    "category": "General purpose",
    "gpuNum": 0,
    "hideHardwareSpecs": false,
    "memoryGiB": 16,
    "name": "ml.m5d.xlarge",
    "vcpuNum": 4
   },
   {
    "_defaultOrder": 14,
    "_isFastLaunch": false,
    "category": "General purpose",
    "gpuNum": 0,
    "hideHardwareSpecs": false,
    "memoryGiB": 32,
    "name": "ml.m5d.2xlarge",
    "vcpuNum": 8
   },
   {
    "_defaultOrder": 15,
    "_isFastLaunch": false,
    "category": "General purpose",
    "gpuNum": 0,
    "hideHardwareSpecs": false,
    "memoryGiB": 64,
    "name": "ml.m5d.4xlarge",
    "vcpuNum": 16
   },
   {
    "_defaultOrder": 16,
    "_isFastLaunch": false,
    "category": "General purpose",
    "gpuNum": 0,
    "hideHardwareSpecs": false,
    "memoryGiB": 128,
    "name": "ml.m5d.8xlarge",
    "vcpuNum": 32
   },
   {
    "_defaultOrder": 17,
    "_isFastLaunch": false,
    "category": "General purpose",
    "gpuNum": 0,
    "hideHardwareSpecs": false,
    "memoryGiB": 192,
    "name": "ml.m5d.12xlarge",
    "vcpuNum": 48
   },
   {
    "_defaultOrder": 18,
    "_isFastLaunch": false,
    "category": "General purpose",
    "gpuNum": 0,
    "hideHardwareSpecs": false,
    "memoryGiB": 256,
    "name": "ml.m5d.16xlarge",
    "vcpuNum": 64
   },
   {
    "_defaultOrder": 19,
    "_isFastLaunch": false,
    "category": "General purpose",
    "gpuNum": 0,
    "hideHardwareSpecs": false,
    "memoryGiB": 384,
    "name": "ml.m5d.24xlarge",
    "vcpuNum": 96
   },
   {
    "_defaultOrder": 20,
    "_isFastLaunch": false,
    "category": "General purpose",
    "gpuNum": 0,
    "hideHardwareSpecs": true,
    "memoryGiB": 0,
    "name": "ml.geospatial.interactive",
    "supportedImageNames": [
     "sagemaker-geospatial-v1-0"
    ],
    "vcpuNum": 0
   },
   {
    "_defaultOrder": 21,
    "_isFastLaunch": true,
    "category": "Compute optimized",
    "gpuNum": 0,
    "hideHardwareSpecs": false,
    "memoryGiB": 4,
    "name": "ml.c5.large",
    "vcpuNum": 2
   },
   {
    "_defaultOrder": 22,
    "_isFastLaunch": false,
    "category": "Compute optimized",
    "gpuNum": 0,
    "hideHardwareSpecs": false,
    "memoryGiB": 8,
    "name": "ml.c5.xlarge",
    "vcpuNum": 4
   },
   {
    "_defaultOrder": 23,
    "_isFastLaunch": false,
    "category": "Compute optimized",
    "gpuNum": 0,
    "hideHardwareSpecs": false,
    "memoryGiB": 16,
    "name": "ml.c5.2xlarge",
    "vcpuNum": 8
   },
   {
    "_defaultOrder": 24,
    "_isFastLaunch": false,
    "category": "Compute optimized",
    "gpuNum": 0,
    "hideHardwareSpecs": false,
    "memoryGiB": 32,
    "name": "ml.c5.4xlarge",
    "vcpuNum": 16
   },
   {
    "_defaultOrder": 25,
    "_isFastLaunch": false,
    "category": "Compute optimized",
    "gpuNum": 0,
    "hideHardwareSpecs": false,
    "memoryGiB": 72,
    "name": "ml.c5.9xlarge",
    "vcpuNum": 36
   },
   {
    "_defaultOrder": 26,
    "_isFastLaunch": false,
    "category": "Compute optimized",
    "gpuNum": 0,
    "hideHardwareSpecs": false,
    "memoryGiB": 96,
    "name": "ml.c5.12xlarge",
    "vcpuNum": 48
   },
   {
    "_defaultOrder": 27,
    "_isFastLaunch": false,
    "category": "Compute optimized",
    "gpuNum": 0,
    "hideHardwareSpecs": false,
    "memoryGiB": 144,
    "name": "ml.c5.18xlarge",
    "vcpuNum": 72
   },
   {
    "_defaultOrder": 28,
    "_isFastLaunch": false,
    "category": "Compute optimized",
    "gpuNum": 0,
    "hideHardwareSpecs": false,
    "memoryGiB": 192,
    "name": "ml.c5.24xlarge",
    "vcpuNum": 96
   },
   {
    "_defaultOrder": 29,
    "_isFastLaunch": true,
    "category": "Accelerated computing",
    "gpuNum": 1,
    "hideHardwareSpecs": false,
    "memoryGiB": 16,
    "name": "ml.g4dn.xlarge",
    "vcpuNum": 4
   },
   {
    "_defaultOrder": 30,
    "_isFastLaunch": false,
    "category": "Accelerated computing",
    "gpuNum": 1,
    "hideHardwareSpecs": false,
    "memoryGiB": 32,
    "name": "ml.g4dn.2xlarge",
    "vcpuNum": 8
   },
   {
    "_defaultOrder": 31,
    "_isFastLaunch": false,
    "category": "Accelerated computing",
    "gpuNum": 1,
    "hideHardwareSpecs": false,
    "memoryGiB": 64,
    "name": "ml.g4dn.4xlarge",
    "vcpuNum": 16
   },
   {
    "_defaultOrder": 32,
    "_isFastLaunch": false,
    "category": "Accelerated computing",
    "gpuNum": 1,
    "hideHardwareSpecs": false,
    "memoryGiB": 128,
    "name": "ml.g4dn.8xlarge",
    "vcpuNum": 32
   },
   {
    "_defaultOrder": 33,
    "_isFastLaunch": false,
    "category": "Accelerated computing",
    "gpuNum": 4,
    "hideHardwareSpecs": false,
    "memoryGiB": 192,
    "name": "ml.g4dn.12xlarge",
    "vcpuNum": 48
   },
   {
    "_defaultOrder": 34,
    "_isFastLaunch": false,
    "category": "Accelerated computing",
    "gpuNum": 1,
    "hideHardwareSpecs": false,
    "memoryGiB": 256,
    "name": "ml.g4dn.16xlarge",
    "vcpuNum": 64
   },
   {
    "_defaultOrder": 35,
    "_isFastLaunch": false,
    "category": "Accelerated computing",
    "gpuNum": 1,
    "hideHardwareSpecs": false,
    "memoryGiB": 61,
    "name": "ml.p3.2xlarge",
    "vcpuNum": 8
   },
   {
    "_defaultOrder": 36,
    "_isFastLaunch": false,
    "category": "Accelerated computing",
    "gpuNum": 4,
    "hideHardwareSpecs": false,
    "memoryGiB": 244,
    "name": "ml.p3.8xlarge",
    "vcpuNum": 32
   },
   {
    "_defaultOrder": 37,
    "_isFastLaunch": false,
    "category": "Accelerated computing",
    "gpuNum": 8,
    "hideHardwareSpecs": false,
    "memoryGiB": 488,
    "name": "ml.p3.16xlarge",
    "vcpuNum": 64
   },
   {
    "_defaultOrder": 38,
    "_isFastLaunch": false,
    "category": "Accelerated computing",
    "gpuNum": 8,
    "hideHardwareSpecs": false,
    "memoryGiB": 768,
    "name": "ml.p3dn.24xlarge",
    "vcpuNum": 96
   },
   {
    "_defaultOrder": 39,
    "_isFastLaunch": false,
    "category": "Memory Optimized",
    "gpuNum": 0,
    "hideHardwareSpecs": false,
    "memoryGiB": 16,
    "name": "ml.r5.large",
    "vcpuNum": 2
   },
   {
    "_defaultOrder": 40,
    "_isFastLaunch": false,
    "category": "Memory Optimized",
    "gpuNum": 0,
    "hideHardwareSpecs": false,
    "memoryGiB": 32,
    "name": "ml.r5.xlarge",
    "vcpuNum": 4
   },
   {
    "_defaultOrder": 41,
    "_isFastLaunch": false,
    "category": "Memory Optimized",
    "gpuNum": 0,
    "hideHardwareSpecs": false,
    "memoryGiB": 64,
    "name": "ml.r5.2xlarge",
    "vcpuNum": 8
   },
   {
    "_defaultOrder": 42,
    "_isFastLaunch": false,
    "category": "Memory Optimized",
    "gpuNum": 0,
    "hideHardwareSpecs": false,
    "memoryGiB": 128,
    "name": "ml.r5.4xlarge",
    "vcpuNum": 16
   },
   {
    "_defaultOrder": 43,
    "_isFastLaunch": false,
    "category": "Memory Optimized",
    "gpuNum": 0,
    "hideHardwareSpecs": false,
    "memoryGiB": 256,
    "name": "ml.r5.8xlarge",
    "vcpuNum": 32
   },
   {
    "_defaultOrder": 44,
    "_isFastLaunch": false,
    "category": "Memory Optimized",
    "gpuNum": 0,
    "hideHardwareSpecs": false,
    "memoryGiB": 384,
    "name": "ml.r5.12xlarge",
    "vcpuNum": 48
   },
   {
    "_defaultOrder": 45,
    "_isFastLaunch": false,
    "category": "Memory Optimized",
    "gpuNum": 0,
    "hideHardwareSpecs": false,
    "memoryGiB": 512,
    "name": "ml.r5.16xlarge",
    "vcpuNum": 64
   },
   {
    "_defaultOrder": 46,
    "_isFastLaunch": false,
    "category": "Memory Optimized",
    "gpuNum": 0,
    "hideHardwareSpecs": false,
    "memoryGiB": 768,
    "name": "ml.r5.24xlarge",
    "vcpuNum": 96
   },
   {
    "_defaultOrder": 47,
    "_isFastLaunch": false,
    "category": "Accelerated computing",
    "gpuNum": 1,
    "hideHardwareSpecs": false,
    "memoryGiB": 16,
    "name": "ml.g5.xlarge",
    "vcpuNum": 4
   },
   {
    "_defaultOrder": 48,
    "_isFastLaunch": false,
    "category": "Accelerated computing",
    "gpuNum": 1,
    "hideHardwareSpecs": false,
    "memoryGiB": 32,
    "name": "ml.g5.2xlarge",
    "vcpuNum": 8
   },
   {
    "_defaultOrder": 49,
    "_isFastLaunch": false,
    "category": "Accelerated computing",
    "gpuNum": 1,
    "hideHardwareSpecs": false,
    "memoryGiB": 64,
    "name": "ml.g5.4xlarge",
    "vcpuNum": 16
   },
   {
    "_defaultOrder": 50,
    "_isFastLaunch": false,
    "category": "Accelerated computing",
    "gpuNum": 1,
    "hideHardwareSpecs": false,
    "memoryGiB": 128,
    "name": "ml.g5.8xlarge",
    "vcpuNum": 32
   },
   {
    "_defaultOrder": 51,
    "_isFastLaunch": false,
    "category": "Accelerated computing",
    "gpuNum": 1,
    "hideHardwareSpecs": false,
    "memoryGiB": 256,
    "name": "ml.g5.16xlarge",
    "vcpuNum": 64
   },
   {
    "_defaultOrder": 52,
    "_isFastLaunch": false,
    "category": "Accelerated computing",
    "gpuNum": 4,
    "hideHardwareSpecs": false,
    "memoryGiB": 192,
    "name": "ml.g5.12xlarge",
    "vcpuNum": 48
   },
   {
    "_defaultOrder": 53,
    "_isFastLaunch": false,
    "category": "Accelerated computing",
    "gpuNum": 4,
    "hideHardwareSpecs": false,
    "memoryGiB": 384,
    "name": "ml.g5.24xlarge",
    "vcpuNum": 96
   },
   {
    "_defaultOrder": 54,
    "_isFastLaunch": false,
    "category": "Accelerated computing",
    "gpuNum": 8,
    "hideHardwareSpecs": false,
    "memoryGiB": 768,
    "name": "ml.g5.48xlarge",
    "vcpuNum": 192
   },
   {
    "_defaultOrder": 55,
    "_isFastLaunch": false,
    "category": "Accelerated computing",
    "gpuNum": 8,
    "hideHardwareSpecs": false,
    "memoryGiB": 1152,
    "name": "ml.p4d.24xlarge",
    "vcpuNum": 96
   },
   {
    "_defaultOrder": 56,
    "_isFastLaunch": false,
    "category": "Accelerated computing",
    "gpuNum": 8,
    "hideHardwareSpecs": false,
    "memoryGiB": 1152,
    "name": "ml.p4de.24xlarge",
    "vcpuNum": 96
   }
  ],
  "instance_type": "ml.t3.medium",
  "kernelspec": {
   "display_name": "Python 3 (Data Science 3.0)",
   "language": "python",
   "name": "python3__SAGEMAKER_INTERNAL__arn:aws:sagemaker:us-east-1:081325390199:image/sagemaker-data-science-310-v1"
  },
  "language_info": {
   "codemirror_mode": {
    "name": "ipython",
    "version": 3
   },
   "file_extension": ".py",
   "mimetype": "text/x-python",
   "name": "python",
   "nbconvert_exporter": "python",
   "pygments_lexer": "ipython3",
   "version": "3.10.6"
  }
 },
 "nbformat": 4,
 "nbformat_minor": 5
}
