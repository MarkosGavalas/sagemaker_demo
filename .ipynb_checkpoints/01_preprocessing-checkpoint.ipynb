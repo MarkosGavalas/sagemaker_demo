{
 "cells": [
  {
   "cell_type": "markdown",
   "id": "7ccb9d9c-4f9b-4f11-a754-51f8e4d6e35d",
   "metadata": {},
   "source": [
    "# Preprocessing Stage"
   ]
  },
  {
   "cell_type": "markdown",
   "id": "aa4cef57-8ead-44d3-829e-46f26e855f67",
   "metadata": {},
   "source": [
    "This notebook reads the Telco-Customer-Churn dataset from [Kaggle](https://www.kaggle.com/datasets/blastchar/telco-customer-churn). \\\n",
    "A processor is created with a specific instance type. \\\n",
    "The code that will be used for the processor is written as a .py file under the folder code. \\\n",
    "The processor is splitting the dataset into train, test and validation and saves is into the s3 bucket under the folder of the specific run."
   ]
  },
  {
   "cell_type": "markdown",
   "id": "9fb3f644-e3fd-42d3-8220-58701e9df67e",
   "metadata": {},
   "source": [
    "#### If a helper file needed:"
   ]
  },
  {
   "cell_type": "code",
   "execution_count": 8,
   "id": "1ac13f5e-f0d5-455e-9955-3bb1e60fa21f",
   "metadata": {
    "tags": []
   },
   "outputs": [
    {
     "name": "stdout",
     "output_type": "stream",
     "text": [
      "Overwriting code/prep_helper.py\n"
     ]
    }
   ],
   "source": [
    "%%writefile code/prep_helper.py\n",
    "\n",
    "def improve_column_val(df):\n",
    "    value_mapper = {'Female': 'F', 'Male': 'M', '1':'Y', '0':'N',\n",
    "                    'No phone service': 'No_phone', 'Fiber optic': 'Fiber',\n",
    "                    'No internet service': 'No_internet', 'Month-to-month': 'Monthly',\n",
    "                    'Bank transfer (automatic)': 'Bank_transfer',\n",
    "                    'Credit card (automatic)': 'Credit_card',\n",
    "                    'One year': 'One_year', 'Two year': 'Two_years', \n",
    "                    'Electronic check':'Electronic_check', 'Mailed check': 'Mailed_check'}\n",
    "    df.replace(to_replace=value_mapper, inplace=True)\n",
    "    return df"
   ]
  },
  {
   "cell_type": "markdown",
   "id": "eb673fbd-ef06-4d1b-89b7-68d23f5c09a6",
   "metadata": {},
   "source": [
    "#### Main preprocessing code:"
   ]
  },
  {
   "cell_type": "code",
   "execution_count": 13,
   "id": "ac859217-8159-4055-b29c-fc4090c16900",
   "metadata": {
    "tags": []
   },
   "outputs": [
    {
     "name": "stdout",
     "output_type": "stream",
     "text": [
      "Overwriting code/preprocessing.py\n"
     ]
    }
   ],
   "source": [
    "%%writefile code/preprocessing.py\n",
    "\n",
    "import prep_helper\n",
    "\n",
    "import argparse\n",
    "import os\n",
    "import glob\n",
    "import warnings\n",
    "import tarfile\n",
    "\n",
    "import numpy as np\n",
    "import pandas as pd\n",
    "import datetime as datetime\n",
    "\n",
    "import joblib\n",
    "from sklearn.model_selection import train_test_split\n",
    "from sklearn.preprocessing import StandardScaler, OneHotEncoder, MinMaxScaler\n",
    "from sklearn.compose import make_column_transformer, make_column_selector\n",
    "from sklearn.exceptions import DataConversionWarning\n",
    "import prep_helper\n",
    "\n",
    "warnings.filterwarnings(action=\"ignore\", category=DataConversionWarning)   \n",
    "\n",
    "if __name__ == \"__main__\": \n",
    "    parser = argparse.ArgumentParser()\n",
    "    parser.add_argument(\"--train-size\", type=float, default=0.7)\n",
    "    parser.add_argument(\"--test-size\", type=float, default=0.2)    \n",
    "    parser.add_argument(\"--input-path\", type=str, default='/opt/ml/processing/input')\n",
    "    parser.add_argument(\"--label\", type=str, default='Churn')    \n",
    "    args, _ = parser.parse_known_args()\n",
    "    \n",
    "    bucket = 'markos-telco-churn'\n",
    "    csv_file_path = 'ingest/Telco-Customer-Churn.csv'\n",
    "\n",
    "    # Define the S3 URL for the CSV file\n",
    "    s3_url = f's3://{bucket}/{csv_file_path}'\n",
    "\n",
    "    # Use pandas to read the CSV file\n",
    "    df = pd.read_csv(s3_url)\n",
    "    df.TotalCharges = pd.to_numeric(df.TotalCharges, errors='coerce')\n",
    "    df.SeniorCitizen = df.SeniorCitizen.apply(str)\n",
    "\n",
    "    #Removing missing values \n",
    "    df.dropna(inplace = True)\n",
    "    \n",
    "    # imporove column values\n",
    "    df = prep_helper.improve_column_val(df)\n",
    "    \n",
    "    #Remove customer IDs from the data set\n",
    "    df2 = df.iloc[:,1:]\n",
    "    #Convertin the predictor variable in a binary numeric variable\n",
    "    df2['Churn'].replace(to_replace='Yes', value=1, inplace=True)\n",
    "    df2['Churn'].replace(to_replace='No',  value=0, inplace=True)   \n",
    "\n",
    "    # Split train test val set\n",
    "    label = args.label\n",
    "    train_size = args.train_size\n",
    "    test_size = args.test_size\n",
    "\n",
    "    print(\"Splitting data into {:.0%} train, {:.0%} test, and {:.0%} validation sets\".format(train_size,test_size,(1-train_size-test_size)))\n",
    "    X_train, X_test, y_train, y_test = train_test_split(\n",
    "        df2.drop(label, axis=1), df2[label], train_size=train_size, random_state=0)\n",
    "    X_test, X_val, y_test, y_val = train_test_split(X_test, y_test, test_size=(1-test_size), random_state=0)  \n",
    "\n",
    "\n",
    "    preprocess = make_column_transformer(\n",
    "        (StandardScaler(),\n",
    "        make_column_selector(dtype_include=np.number)),\n",
    "        (OneHotEncoder(drop='first',dtype='int'),\n",
    "        make_column_selector(dtype_include=object)))\n",
    "\n",
    "    col_names = ['Churn', 'tenure', 'MonthlyCharges', 'TotalCharges', 'gender_M', 'SeniorCitizen_Y', \n",
    "                 'Partner_Yes', 'Dependents_Yes', 'PhoneService_Yes', \n",
    "                 'MultipleLines_No_phone', 'MultipleLines_Yes', \n",
    "                 'InternetService_Fiber', 'InternetService_No', 'OnlineSecurity_No_internet', \n",
    "                 'OnlineSecurity_Yes','OnlineBackup_No_internet', 'OnlineBackup_Yes',\n",
    "                 'DeviceProtection_No_internet', 'DeviceProtection_Yes', 'TechSupport_No_internet', \n",
    "                 'TechSupport_Yes', 'StreamingTV_No_internet', 'StreamingTV_Yes',\n",
    "                 'StreamingMovies_No_internet', 'StreamingMovies_Yes', 'Contract_One_year',\n",
    "                 'Contract_Two_years', 'PaperlessBilling_Yes',\n",
    "                 'PaymentMethod_Credit_card', 'PaymentMethod_Electronic_check', 'PaymentMethod_Mailed_check']\n",
    "\n",
    "\n",
    "    # Fit preprocessor on train data and transform both test and train dataset\n",
    "    train_features = preprocess.fit_transform(X_train)\n",
    "    test_features = preprocess.transform(X_test)\n",
    "    val_features = preprocess.transform(X_val)    \n",
    "\n",
    "    #Insert label column as first column\n",
    "    train_features = np.insert(train_features,0,y_train, axis=1)\n",
    "    test_features = np.insert(test_features,0,y_test,axis=1)\n",
    "    val_features = np.insert(val_features,0,y_val,axis=1)\n",
    "\n",
    "    train = pd.DataFrame(train_features, columns=col_names)\n",
    "    test = pd.DataFrame(test_features, columns=col_names)\n",
    "    val = pd.DataFrame(val_features, columns=col_names)    \n",
    "\n",
    "    print(\"Train data shape after preprocessing: {}\".format(train_features.shape))\n",
    "    print(\"Test data shape after preprocessing: {}\".format(test_features.shape))\n",
    "    print(\"Validation data shape after preprocessing: {}\".format(val_features.shape))    \n",
    "\n",
    "    train_output_path = os.path.join(\"/opt/ml/processing/train\", \"train.csv\")\n",
    "    test_output_path = os.path.join(\"/opt/ml/processing/test\", \"test.csv\")\n",
    "    val_output_path = os.path.join(\"/opt/ml/processing/val\", \"val.csv\")    \n",
    "    model_output_path = \"/opt/ml/processing/model\"\n",
    "    model_filename = \"model.tar.gz\"\n",
    "\n",
    "    print(\"Saving training data frame to {}\".format(train_output_path))\n",
    "    train.to_csv(train_output_path, header=True, index=False)\n",
    "    print(\"Saving test data frame to {}\".format(test_output_path))\n",
    "    test.to_csv(test_output_path, header=True, index=False)\n",
    "    print(\"Saving val data frame to {}\".format(val_output_path))\n",
    "    val.to_csv(val_output_path, header=True, index=False)    \n",
    "\n",
    "    print(\"Job was successful!\")"
   ]
  },
  {
   "cell_type": "markdown",
   "id": "491dfc16-7681-4575-a635-07c6b918f62c",
   "metadata": {},
   "source": [
    "#### Specify the bucket path:"
   ]
  },
  {
   "cell_type": "code",
   "execution_count": 14,
   "id": "47efa638-2058-46db-8e13-5a95a2fa0405",
   "metadata": {
    "tags": []
   },
   "outputs": [
    {
     "name": "stdout",
     "output_type": "stream",
     "text": [
      "sagemaker.config INFO - Not applying SDK defaults from location: /etc/xdg/sagemaker/config.yaml\n",
      "sagemaker.config INFO - Not applying SDK defaults from location: /root/.config/sagemaker/config.yaml\n"
     ]
    }
   ],
   "source": [
    "from sagemaker.session import Session\n",
    "\n",
    "bucket = 'markos-telco-churn'\n",
    "sess = Session(default_bucket=bucket)\n",
    "prefix = 'ingest'\n",
    "bucket_path =  f\"s3://{bucket}/{prefix}\"\n",
    "input_file = f\"s3://{bucket}/{prefix}/Telco-Customer-Churn.csv\"\n"
   ]
  },
  {
   "cell_type": "markdown",
   "id": "6bb0b9f0-54d3-4f49-8797-1eb375c696da",
   "metadata": {
    "tags": []
   },
   "source": [
    "#### Specify the Processor:"
   ]
  },
  {
   "cell_type": "code",
   "execution_count": 15,
   "id": "5549ac64-8cff-4de0-8991-361b9818d57e",
   "metadata": {
    "tags": []
   },
   "outputs": [
    {
     "name": "stdout",
     "output_type": "stream",
     "text": [
      "sagemaker.config INFO - Not applying SDK defaults from location: /etc/xdg/sagemaker/config.yaml\n",
      "sagemaker.config INFO - Not applying SDK defaults from location: /root/.config/sagemaker/config.yaml\n"
     ]
    }
   ],
   "source": [
    "from sagemaker import get_execution_role\n",
    "from sagemaker.sklearn import estimator\n",
    "from sagemaker.processing import FrameworkProcessor, ProcessingInput, ProcessingOutput\n",
    "\n",
    "role = get_execution_role()\n",
    "\n",
    "estimator_cls = estimator.SKLearn\n",
    "framework_version = \"1.0-1\"\n",
    "\n",
    "script_processor = FrameworkProcessor(\n",
    "    role=role,\n",
    "    sagemaker_session = sess,\n",
    "    instance_count=1,\n",
    "    instance_type=\"ml.m5.xlarge\",\n",
    "    estimator_cls=estimator_cls,\n",
    "    framework_version=framework_version,\n",
    "    code_location = bucket_path,\n",
    ")"
   ]
  },
  {
   "cell_type": "markdown",
   "id": "237c9fbf-1269-48dd-b85d-c23d3b90a626",
   "metadata": {},
   "source": [
    "#### Run the processor:"
   ]
  },
  {
   "cell_type": "code",
   "execution_count": 16,
   "id": "1b7ceeed-0357-4951-960a-adf235e3ea16",
   "metadata": {
    "tags": []
   },
   "outputs": [
    {
     "name": "stderr",
     "output_type": "stream",
     "text": [
      "INFO:sagemaker.processing:Uploaded code to s3://markos-telco-churn/ingest/ingest-2023-10-14-21-32-51/source/sourcedir.tar.gz\n",
      "INFO:sagemaker.processing:runproc.sh uploaded to s3://markos-telco-churn/ingest/ingest-2023-10-14-21-32-51/source/runproc.sh\n",
      "INFO:sagemaker:Creating processing-job with name ingest-2023-10-14-21-32-51\n"
     ]
    },
    {
     "name": "stdout",
     "output_type": "stream",
     "text": [
      "Using provided s3_resource\n",
      "..........................\u001b[34mFound existing installation: typing 3.7.4.3\u001b[0m\n",
      "\u001b[34mUninstalling typing-3.7.4.3:\n",
      "  Successfully uninstalled typing-3.7.4.3\u001b[0m\n",
      "\u001b[34mWARNING: Running pip as the 'root' user can result in broken permissions and conflicting behaviour with the system package manager. It is recommended to use a virtual environment instead: https://pip.pypa.io/warnings/venv\u001b[0m\n",
      "\u001b[34mRequirement already satisfied: boto3 in /miniconda3/lib/python3.8/site-packages (from -r requirements.txt (line 1)) (1.24.17)\u001b[0m\n",
      "\u001b[34mCollecting s3fs (from -r requirements.txt (line 2))\n",
      "  Obtaining dependency information for s3fs from https://files.pythonhosted.org/packages/36/93/8aed66523d90361211a02dc0435855cc1ef357978decc2b05c8291fc515f/s3fs-2023.9.2-py3-none-any.whl.metadata\n",
      "  Downloading s3fs-2023.9.2-py3-none-any.whl.metadata (1.6 kB)\u001b[0m\n",
      "\u001b[34mCollecting fsspec (from -r requirements.txt (line 3))\n",
      "  Obtaining dependency information for fsspec from https://files.pythonhosted.org/packages/fe/d3/e1aa96437d944fbb9cc95d0316e25583886e9cd9e6adc07baad943524eda/fsspec-2023.9.2-py3-none-any.whl.metadata\n",
      "  Downloading fsspec-2023.9.2-py3-none-any.whl.metadata (6.7 kB)\u001b[0m\n",
      "\u001b[34mRequirement already satisfied: botocore<1.28.0,>=1.27.17 in /miniconda3/lib/python3.8/site-packages (from boto3->-r requirements.txt (line 1)) (1.27.18)\u001b[0m\n",
      "\u001b[34mRequirement already satisfied: jmespath<2.0.0,>=0.7.1 in /miniconda3/lib/python3.8/site-packages (from boto3->-r requirements.txt (line 1)) (1.0.1)\u001b[0m\n",
      "\u001b[34mRequirement already satisfied: s3transfer<0.7.0,>=0.6.0 in /miniconda3/lib/python3.8/site-packages (from boto3->-r requirements.txt (line 1)) (0.6.1)\u001b[0m\n",
      "\u001b[34mCollecting aiobotocore~=2.5.4 (from s3fs->-r requirements.txt (line 2))\n",
      "  Obtaining dependency information for aiobotocore~=2.5.4 from https://files.pythonhosted.org/packages/20/00/01780c5fa93e3feb6d776ac8c7bd05dbe9290165636c13edcbdde6853537/aiobotocore-2.5.4-py3-none-any.whl.metadata\n",
      "  Downloading aiobotocore-2.5.4-py3-none-any.whl.metadata (19 kB)\u001b[0m\n",
      "\u001b[34mCollecting aiohttp!=4.0.0a0,!=4.0.0a1 (from s3fs->-r requirements.txt (line 2))\n",
      "  Obtaining dependency information for aiohttp!=4.0.0a0,!=4.0.0a1 from https://files.pythonhosted.org/packages/91/1b/9b5da3748ddd924288d9a946a0f48a34b179330d342c6cdeb89683bcf971/aiohttp-3.8.6-cp38-cp38-manylinux_2_17_x86_64.manylinux2014_x86_64.whl.metadata\n",
      "  Downloading aiohttp-3.8.6-cp38-cp38-manylinux_2_17_x86_64.manylinux2014_x86_64.whl.metadata (7.7 kB)\u001b[0m\n",
      "\u001b[34mINFO: pip is looking at multiple versions of aiobotocore to determine which version is compatible with other requirements. This could take a while.\u001b[0m\n",
      "\u001b[34mCollecting s3fs (from -r requirements.txt (line 2))\n",
      "  Obtaining dependency information for s3fs from https://files.pythonhosted.org/packages/51/dc/ef0a84b2d7d03e042bdced0a5bab9cfee1e11a0080f010e43b37222784ce/s3fs-2023.9.1-py3-none-any.whl.metadata\n",
      "  Downloading s3fs-2023.9.1-py3-none-any.whl.metadata (1.6 kB)\u001b[0m\n",
      "\u001b[34mRequirement already satisfied: python-dateutil<3.0.0,>=2.1 in /miniconda3/lib/python3.8/site-packages (from botocore<1.28.0,>=1.27.17->boto3->-r requirements.txt (line 1)) (2.8.1)\u001b[0m\n",
      "\u001b[34mRequirement already satisfied: urllib3<1.27,>=1.25.4 in /miniconda3/lib/python3.8/site-packages (from botocore<1.28.0,>=1.27.17->boto3->-r requirements.txt (line 1)) (1.26.16)\u001b[0m\n",
      "\u001b[34mCollecting fsspec (from -r requirements.txt (line 3))\n",
      "  Obtaining dependency information for fsspec from https://files.pythonhosted.org/packages/6a/af/c673e8c663e17bd4fb201a6f029153ad5d7023aa4442d81c7987743db379/fsspec-2023.9.1-py3-none-any.whl.metadata\n",
      "  Downloading fsspec-2023.9.1-py3-none-any.whl.metadata (6.7 kB)\u001b[0m\n",
      "\u001b[34mCollecting s3fs (from -r requirements.txt (line 2))\n",
      "  Obtaining dependency information for s3fs from https://files.pythonhosted.org/packages/98/19/fb5e526056deefe616530678462b02bb457089eb5bf50d47e84e105d0c6f/s3fs-2023.9.0-py3-none-any.whl.metadata\n",
      "  Downloading s3fs-2023.9.0-py3-none-any.whl.metadata (1.6 kB)\u001b[0m\n",
      "\u001b[34mCollecting fsspec (from -r requirements.txt (line 3))\n",
      "  Obtaining dependency information for fsspec from https://files.pythonhosted.org/packages/3a/9f/b40e8e5be886143379000af5fc0c675352d59e82fd869d24bf784161dc77/fsspec-2023.9.0-py3-none-any.whl.metadata\n",
      "  Downloading fsspec-2023.9.0-py3-none-any.whl.metadata (6.7 kB)\u001b[0m\n",
      "\u001b[34mCollecting s3fs (from -r requirements.txt (line 2))\n",
      "  Obtaining dependency information for s3fs from https://files.pythonhosted.org/packages/34/d0/9dbfa30e20ed5176fd4bbbd3d69b80e465025b594e63dad7402a4130e0c1/s3fs-2023.6.0-py3-none-any.whl.metadata\n",
      "  Downloading s3fs-2023.6.0-py3-none-any.whl.metadata (1.6 kB)\u001b[0m\n",
      "\u001b[34mCollecting fsspec (from -r requirements.txt (line 3))\n",
      "  Obtaining dependency information for fsspec from https://files.pythonhosted.org/packages/e3/bd/4c0a4619494188a9db5d77e2100ab7d544a42e76b2447869d8e124e981d8/fsspec-2023.6.0-py3-none-any.whl.metadata\n",
      "  Downloading fsspec-2023.6.0-py3-none-any.whl.metadata (6.7 kB)\u001b[0m\n",
      "\u001b[34mCollecting aiobotocore~=2.5.0 (from s3fs->-r requirements.txt (line 2))\n",
      "  Obtaining dependency information for aiobotocore~=2.5.0 from https://files.pythonhosted.org/packages/cd/d6/b2679f6acd8705415bfd9829ecfe38dd09d6a2388cb72ba69900a44ea0f1/aiobotocore-2.5.3-py3-none-any.whl.metadata\n",
      "  Downloading aiobotocore-2.5.3-py3-none-any.whl.metadata (19 kB)\n",
      "  Obtaining dependency information for aiobotocore~=2.5.0 from https://files.pythonhosted.org/packages/73/15/49deae4077f336c543122ec17f1b4c4221b42cb5920e756397a80b130884/aiobotocore-2.5.2-py3-none-any.whl.metadata\n",
      "  Downloading aiobotocore-2.5.2-py3-none-any.whl.metadata (19 kB)\n",
      "  Obtaining dependency information for aiobotocore~=2.5.0 from https://files.pythonhosted.org/packages/bc/96/200526be88a7310fdd7dba18ee9854e78bbbfc99843c99a24e39b9df3fb5/aiobotocore-2.5.1-py3-none-any.whl.metadata\n",
      "  Downloading aiobotocore-2.5.1-py3-none-any.whl.metadata (19 kB)\n",
      "  Downloading aiobotocore-2.5.0-py3-none-any.whl (72 kB)\n",
      "     ━━━━━━━━━━━━━━━━━━━━━━━━━━━━━━━━━━━━━━━━ 72.7/72.7 kB 12.2 MB/s eta 0:00:00\u001b[0m\n",
      "\u001b[34mINFO: pip is still looking at multiple versions of aiobotocore to determine which version is compatible with other requirements. This could take a while.\u001b[0m\n",
      "\u001b[34mCollecting s3fs (from -r requirements.txt (line 2))\n",
      "  Downloading s3fs-2023.5.0-py3-none-any.whl (28 kB)\u001b[0m\n",
      "\u001b[34mCollecting fsspec (from -r requirements.txt (line 3))\n",
      "  Downloading fsspec-2023.5.0-py3-none-any.whl (160 kB)\n",
      "     ━━━━━━━━━━━━━━━━━━━━━━━━━━━━━━━━━━━━━━ 160.1/160.1 kB 35.1 MB/s eta 0:00:00\u001b[0m\n",
      "\u001b[34mINFO: This is taking longer than usual. You might need to provide the dependency resolver with stricter constraints to reduce runtime. See https://pip.pypa.io/warnings/backtracking for guidance. If you want to abort this run, press Ctrl + C.\u001b[0m\n",
      "\u001b[34mCollecting s3fs (from -r requirements.txt (line 2))\n",
      "  Downloading s3fs-2023.4.0-py3-none-any.whl (28 kB)\u001b[0m\n",
      "\u001b[34mCollecting fsspec (from -r requirements.txt (line 3))\n",
      "  Downloading fsspec-2023.4.0-py3-none-any.whl (153 kB)\n",
      "     ━━━━━━━━━━━━━━━━━━━━━━━━━━━━━━━━━━━━━━ 154.0/154.0 kB 25.7 MB/s eta 0:00:00\u001b[0m\n",
      "\u001b[34mCollecting s3fs (from -r requirements.txt (line 2))\n",
      "  Downloading s3fs-2023.3.0-py3-none-any.whl (27 kB)\u001b[0m\n",
      "\u001b[34mCollecting aiobotocore~=2.4.2 (from s3fs->-r requirements.txt (line 2))\n",
      "  Downloading aiobotocore-2.4.2-py3-none-any.whl (66 kB)\n",
      "     ━━━━━━━━━━━━━━━━━━━━━━━━━━━━━━━━━━━━━━━━ 66.8/66.8 kB 13.7 MB/s eta 0:00:00\u001b[0m\n",
      "\u001b[34mCollecting fsspec (from -r requirements.txt (line 3))\n",
      "  Downloading fsspec-2023.3.0-py3-none-any.whl (145 kB)\n",
      "     ━━━━━━━━━━━━━━━━━━━━━━━━━━━━━━━━━━━━━━ 145.4/145.4 kB 29.4 MB/s eta 0:00:00\u001b[0m\n",
      "\u001b[34mCollecting botocore<1.28.0,>=1.27.17 (from boto3->-r requirements.txt (line 1))\n",
      "  Downloading botocore-1.27.59-py3-none-any.whl (9.1 MB)\n",
      "     ━━━━━━━━━━━━━━━━━━━━━━━━━━━━━━━━━━━━━━━━ 9.1/9.1 MB 59.1 MB/s eta 0:00:00\u001b[0m\n",
      "\u001b[34mCollecting wrapt>=1.10.10 (from aiobotocore~=2.4.2->s3fs->-r requirements.txt (line 2))\n",
      "  Downloading wrapt-1.15.0-cp38-cp38-manylinux_2_5_x86_64.manylinux1_x86_64.manylinux_2_17_x86_64.manylinux2014_x86_64.whl (81 kB)\n",
      "     ━━━━━━━━━━━━━━━━━━━━━━━━━━━━━━━━━━━━━━━━ 81.5/81.5 kB 14.5 MB/s eta 0:00:00\u001b[0m\n",
      "\u001b[34mCollecting aioitertools>=0.5.1 (from aiobotocore~=2.4.2->s3fs->-r requirements.txt (line 2))\n",
      "  Downloading aioitertools-0.11.0-py3-none-any.whl (23 kB)\u001b[0m\n",
      "\u001b[34mCollecting attrs>=17.3.0 (from aiohttp!=4.0.0a0,!=4.0.0a1->s3fs->-r requirements.txt (line 2))\n",
      "  Downloading attrs-23.1.0-py3-none-any.whl (61 kB)\n",
      "     ━━━━━━━━━━━━━━━━━━━━━━━━━━━━━━━━━━━━━━━━ 61.2/61.2 kB 13.1 MB/s eta 0:00:00\u001b[0m\n",
      "\u001b[34mRequirement already satisfied: charset-normalizer<4.0,>=2.0 in /miniconda3/lib/python3.8/site-packages (from aiohttp!=4.0.0a0,!=4.0.0a1->s3fs->-r requirements.txt (line 2)) (2.0.4)\u001b[0m\n",
      "\u001b[34mCollecting multidict<7.0,>=4.5 (from aiohttp!=4.0.0a0,!=4.0.0a1->s3fs->-r requirements.txt (line 2))\n",
      "  Downloading multidict-6.0.4-cp38-cp38-manylinux_2_17_x86_64.manylinux2014_x86_64.whl (121 kB)\n",
      "     ━━━━━━━━━━━━━━━━━━━━━━━━━━━━━━━━━━━━━━ 121.3/121.3 kB 24.2 MB/s eta 0:00:00\u001b[0m\n",
      "\u001b[34mCollecting async-timeout<5.0,>=4.0.0a3 (from aiohttp!=4.0.0a0,!=4.0.0a1->s3fs->-r requirements.txt (line 2))\n",
      "  Obtaining dependency information for async-timeout<5.0,>=4.0.0a3 from https://files.pythonhosted.org/packages/a7/fa/e01228c2938de91d47b307831c62ab9e4001e747789d0b05baf779a6488c/async_timeout-4.0.3-py3-none-any.whl.metadata\n",
      "  Downloading async_timeout-4.0.3-py3-none-any.whl.metadata (4.2 kB)\u001b[0m\n",
      "\u001b[34mCollecting yarl<2.0,>=1.0 (from aiohttp!=4.0.0a0,!=4.0.0a1->s3fs->-r requirements.txt (line 2))\n",
      "  Downloading yarl-1.9.2-cp38-cp38-manylinux_2_17_x86_64.manylinux2014_x86_64.whl (266 kB)\n",
      "     ━━━━━━━━━━━━━━━━━━━━━━━━━━━━━━━━━━━━━━ 266.9/266.9 kB 35.9 MB/s eta 0:00:00\u001b[0m\n",
      "\u001b[34mCollecting frozenlist>=1.1.1 (from aiohttp!=4.0.0a0,!=4.0.0a1->s3fs->-r requirements.txt (line 2))\n",
      "  Obtaining dependency information for frozenlist>=1.1.1 from https://files.pythonhosted.org/packages/0b/36/c276486f89bee9098332710af2207344f360c6c6f104a4931a7566039b1d/frozenlist-1.4.0-cp38-cp38-manylinux_2_5_x86_64.manylinux1_x86_64.manylinux_2_17_x86_64.manylinux2014_x86_64.whl.metadata\n",
      "  Downloading frozenlist-1.4.0-cp38-cp38-manylinux_2_5_x86_64.manylinux1_x86_64.manylinux_2_17_x86_64.manylinux2014_x86_64.whl.metadata (5.2 kB)\u001b[0m\n",
      "\u001b[34mCollecting aiosignal>=1.1.2 (from aiohttp!=4.0.0a0,!=4.0.0a1->s3fs->-r requirements.txt (line 2))\n",
      "  Downloading aiosignal-1.3.1-py3-none-any.whl (7.6 kB)\u001b[0m\n",
      "\u001b[34mCollecting typing_extensions>=4.0 (from aioitertools>=0.5.1->aiobotocore~=2.4.2->s3fs->-r requirements.txt (line 2))\n",
      "  Obtaining dependency information for typing_extensions>=4.0 from https://files.pythonhosted.org/packages/24/21/7d397a4b7934ff4028987914ac1044d3b7d52712f30e2ac7a2ae5bc86dd0/typing_extensions-4.8.0-py3-none-any.whl.metadata\n",
      "  Downloading typing_extensions-4.8.0-py3-none-any.whl.metadata (3.0 kB)\u001b[0m\n",
      "\u001b[34mRequirement already satisfied: six>=1.5 in /miniconda3/lib/python3.8/site-packages (from python-dateutil<3.0.0,>=2.1->botocore<1.28.0,>=1.27.17->boto3->-r requirements.txt (line 1)) (1.15.0)\u001b[0m\n",
      "\u001b[34mRequirement already satisfied: idna>=2.0 in /miniconda3/lib/python3.8/site-packages (from yarl<2.0,>=1.0->aiohttp!=4.0.0a0,!=4.0.0a1->s3fs->-r requirements.txt (line 2)) (3.4)\u001b[0m\n",
      "\u001b[34mDownloading aiohttp-3.8.6-cp38-cp38-manylinux_2_17_x86_64.manylinux2014_x86_64.whl (1.1 MB)\n",
      "   ━━━━━━━━━━━━━━━━━━━━━━━━━━━━━━━━━━━━━━━━ 1.1/1.1 MB 72.3 MB/s eta 0:00:00\u001b[0m\n",
      "\u001b[34mDownloading async_timeout-4.0.3-py3-none-any.whl (5.7 kB)\u001b[0m\n",
      "\u001b[34mDownloading frozenlist-1.4.0-cp38-cp38-manylinux_2_5_x86_64.manylinux1_x86_64.manylinux_2_17_x86_64.manylinux2014_x86_64.whl (220 kB)\n",
      "   ━━━━━━━━━━━━━━━━━━━━━━━━━━━━━━━━━━━━━━━━ 220.1/220.1 kB 36.9 MB/s eta 0:00:00\u001b[0m\n",
      "\u001b[34mDownloading typing_extensions-4.8.0-py3-none-any.whl (31 kB)\u001b[0m\n",
      "\u001b[34mInstalling collected packages: wrapt, typing_extensions, multidict, fsspec, frozenlist, attrs, async-timeout, yarl, botocore, aiosignal, aioitertools, aiohttp, aiobotocore, s3fs\n",
      "  Attempting uninstall: botocore\n",
      "    Found existing installation: botocore 1.27.18\n",
      "    Uninstalling botocore-1.27.18:\n",
      "      Successfully uninstalled botocore-1.27.18\u001b[0m\n",
      "\n",
      "\u001b[34mERROR: pip's dependency resolver does not currently take into account all the packages that are installed. This behaviour is the source of the following dependency conflicts.\u001b[0m\n",
      "\u001b[34msagemaker-containers 2.8.6.post2 requires typing, which is not installed.\u001b[0m\n",
      "\u001b[34msagemaker-sklearn-container 2.0 requires botocore==1.27.18, but you have botocore 1.27.59 which is incompatible.\u001b[0m\n",
      "\u001b[34mSuccessfully installed aiobotocore-2.4.2 aiohttp-3.8.6 aioitertools-0.11.0 aiosignal-1.3.1 async-timeout-4.0.3 attrs-23.1.0 botocore-1.27.59 frozenlist-1.4.0 fsspec-2023.3.0 multidict-6.0.4 s3fs-2023.3.0 typing_extensions-4.8.0 wrapt-1.15.0 yarl-1.9.2\u001b[0m\n",
      "\u001b[34mWARNING: Running pip as the 'root' user can result in broken permissions and conflicting behaviour with the system package manager. It is recommended to use a virtual environment instead: https://pip.pypa.io/warnings/venv\u001b[0m\n",
      "\u001b[34mSplitting data into 70% train, 20% test, and 10% validation sets\u001b[0m\n",
      "\u001b[34mTrain data shape after preprocessing: (4922, 31)\u001b[0m\n",
      "\u001b[34mTest data shape after preprocessing: (422, 31)\u001b[0m\n",
      "\u001b[34mValidation data shape after preprocessing: (1688, 31)\u001b[0m\n",
      "\u001b[34mSaving training data frame to /opt/ml/processing/train/train.csv\u001b[0m\n",
      "\u001b[34mSaving test data frame to /opt/ml/processing/test/test.csv\u001b[0m\n",
      "\u001b[34mSaving val data frame to /opt/ml/processing/val/val.csv\u001b[0m\n",
      "\u001b[34mJob was successful!\u001b[0m\n",
      "{'ProcessingInputs': [{'InputName': 'input-1', 'AppManaged': False, 'S3Input': {'S3Uri': 's3://markos-telco-churn/ingest/Telco-Customer-Churn.csv', 'LocalPath': '/opt/ml/processing/input', 'S3DataType': 'S3Prefix', 'S3InputMode': 'File', 'S3DataDistributionType': 'FullyReplicated', 'S3CompressionType': 'None'}}, {'InputName': 'code', 'AppManaged': False, 'S3Input': {'S3Uri': 's3://markos-telco-churn/ingest/ingest-2023-10-14-21-32-51/source/sourcedir.tar.gz', 'LocalPath': '/opt/ml/processing/input/code/', 'S3DataType': 'S3Prefix', 'S3InputMode': 'File', 'S3DataDistributionType': 'FullyReplicated', 'S3CompressionType': 'None'}}, {'InputName': 'entrypoint', 'AppManaged': False, 'S3Input': {'S3Uri': 's3://markos-telco-churn/ingest/ingest-2023-10-14-21-32-51/source/runproc.sh', 'LocalPath': '/opt/ml/processing/input/entrypoint', 'S3DataType': 'S3Prefix', 'S3InputMode': 'File', 'S3DataDistributionType': 'FullyReplicated', 'S3CompressionType': 'None'}}], 'ProcessingOutputConfig': {'Outputs': [{'OutputName': 'train', 'S3Output': {'S3Uri': 's3://markos-telco-churn/ingest/ingest-2023-10-14-21-32-51/train', 'LocalPath': '/opt/ml/processing/train', 'S3UploadMode': 'EndOfJob'}, 'AppManaged': False}, {'OutputName': 'test', 'S3Output': {'S3Uri': 's3://markos-telco-churn/ingest/ingest-2023-10-14-21-32-51/test', 'LocalPath': '/opt/ml/processing/test', 'S3UploadMode': 'EndOfJob'}, 'AppManaged': False}, {'OutputName': 'val', 'S3Output': {'S3Uri': 's3://markos-telco-churn/ingest/ingest-2023-10-14-21-32-51/val', 'LocalPath': '/opt/ml/processing/val', 'S3UploadMode': 'EndOfJob'}, 'AppManaged': False}]}, 'ProcessingJobName': 'ingest-2023-10-14-21-32-51', 'ProcessingResources': {'ClusterConfig': {'InstanceCount': 1, 'InstanceType': 'ml.m5.xlarge', 'VolumeSizeInGB': 30}}, 'StoppingCondition': {'MaxRuntimeInSeconds': 86400}, 'AppSpecification': {'ImageUri': '683313688378.dkr.ecr.us-east-1.amazonaws.com/sagemaker-scikit-learn:1.0-1-cpu-py3', 'ContainerEntrypoint': ['/bin/bash', '/opt/ml/processing/input/entrypoint/runproc.sh'], 'ContainerArguments': ['--train-size', '0.7', '--test-size', '0.2', '--label', 'Churn']}, 'RoleArn': 'arn:aws:iam::204113162030:role/service-role/AmazonSageMaker-ExecutionRole-20231014T230317', 'ProcessingJobArn': 'arn:aws:sagemaker:us-east-1:204113162030:processing-job/ingest-2023-10-14-21-32-51', 'ProcessingJobStatus': 'Completed', 'ProcessingEndTime': datetime.datetime(2023, 10, 14, 21, 37, 28, 760000, tzinfo=tzlocal()), 'ProcessingStartTime': datetime.datetime(2023, 10, 14, 21, 37, 4, 884000, tzinfo=tzlocal()), 'LastModifiedTime': datetime.datetime(2023, 10, 14, 21, 37, 29, 101000, tzinfo=tzlocal()), 'CreationTime': datetime.datetime(2023, 10, 14, 21, 32, 51, 532000, tzinfo=tzlocal()), 'ResponseMetadata': {'RequestId': '267c3c91-b8d4-4aea-b770-d46cffac95fc', 'HTTPStatusCode': 200, 'HTTPHeaders': {'x-amzn-requestid': '267c3c91-b8d4-4aea-b770-d46cffac95fc', 'content-type': 'application/x-amz-json-1.1', 'content-length': '2595', 'date': 'Sat, 14 Oct 2023 21:37:44 GMT'}, 'RetryAttempts': 0}}\n"
     ]
    }
   ],
   "source": [
    "from time import gmtime, strftime\n",
    "import os\n",
    "\n",
    "job_name = f'{prefix}-{strftime(\"%Y-%m-%d-%H-%M-%S\", gmtime())}'\n",
    "destination = os.path.join(bucket_path,job_name)\n",
    "\n",
    "script_processor.run(\n",
    "    job_name = job_name,\n",
    "    code=\"preprocessing.py\",\n",
    "    source_dir = \"code\",\n",
    "    inputs=[ProcessingInput(source=input_file, destination=\"/opt/ml/processing/input\")],\n",
    "    outputs=[\n",
    "        ProcessingOutput(output_name=\"train\", source=\"/opt/ml/processing/train\", destination=os.path.join(destination,'train')),\n",
    "        ProcessingOutput(output_name=\"test\", source=\"/opt/ml/processing/test\", destination=os.path.join(destination,'test')),\n",
    "        ProcessingOutput(output_name=\"val\", source=\"/opt/ml/processing/val\", destination=os.path.join(destination,'val'))],\n",
    "    arguments=[\"--train-size\", \"0.7\",\"--test-size\",\"0.2\",\"--label\", \"Churn\"],\n",
    ")\n",
    "script_processor_job_description = script_processor.jobs[-1].describe()\n",
    "print(script_processor_job_description)"
   ]
  }
 ],
 "metadata": {
  "availableInstances": [
   {
    "_defaultOrder": 0,
    "_isFastLaunch": true,
    "category": "General purpose",
    "gpuNum": 0,
    "hideHardwareSpecs": false,
    "memoryGiB": 4,
    "name": "ml.t3.medium",
    "vcpuNum": 2
   },
   {
    "_defaultOrder": 1,
    "_isFastLaunch": false,
    "category": "General purpose",
    "gpuNum": 0,
    "hideHardwareSpecs": false,
    "memoryGiB": 8,
    "name": "ml.t3.large",
    "vcpuNum": 2
   },
   {
    "_defaultOrder": 2,
    "_isFastLaunch": false,
    "category": "General purpose",
    "gpuNum": 0,
    "hideHardwareSpecs": false,
    "memoryGiB": 16,
    "name": "ml.t3.xlarge",
    "vcpuNum": 4
   },
   {
    "_defaultOrder": 3,
    "_isFastLaunch": false,
    "category": "General purpose",
    "gpuNum": 0,
    "hideHardwareSpecs": false,
    "memoryGiB": 32,
    "name": "ml.t3.2xlarge",
    "vcpuNum": 8
   },
   {
    "_defaultOrder": 4,
    "_isFastLaunch": true,
    "category": "General purpose",
    "gpuNum": 0,
    "hideHardwareSpecs": false,
    "memoryGiB": 8,
    "name": "ml.m5.large",
    "vcpuNum": 2
   },
   {
    "_defaultOrder": 5,
    "_isFastLaunch": false,
    "category": "General purpose",
    "gpuNum": 0,
    "hideHardwareSpecs": false,
    "memoryGiB": 16,
    "name": "ml.m5.xlarge",
    "vcpuNum": 4
   },
   {
    "_defaultOrder": 6,
    "_isFastLaunch": false,
    "category": "General purpose",
    "gpuNum": 0,
    "hideHardwareSpecs": false,
    "memoryGiB": 32,
    "name": "ml.m5.2xlarge",
    "vcpuNum": 8
   },
   {
    "_defaultOrder": 7,
    "_isFastLaunch": false,
    "category": "General purpose",
    "gpuNum": 0,
    "hideHardwareSpecs": false,
    "memoryGiB": 64,
    "name": "ml.m5.4xlarge",
    "vcpuNum": 16
   },
   {
    "_defaultOrder": 8,
    "_isFastLaunch": false,
    "category": "General purpose",
    "gpuNum": 0,
    "hideHardwareSpecs": false,
    "memoryGiB": 128,
    "name": "ml.m5.8xlarge",
    "vcpuNum": 32
   },
   {
    "_defaultOrder": 9,
    "_isFastLaunch": false,
    "category": "General purpose",
    "gpuNum": 0,
    "hideHardwareSpecs": false,
    "memoryGiB": 192,
    "name": "ml.m5.12xlarge",
    "vcpuNum": 48
   },
   {
    "_defaultOrder": 10,
    "_isFastLaunch": false,
    "category": "General purpose",
    "gpuNum": 0,
    "hideHardwareSpecs": false,
    "memoryGiB": 256,
    "name": "ml.m5.16xlarge",
    "vcpuNum": 64
   },
   {
    "_defaultOrder": 11,
    "_isFastLaunch": false,
    "category": "General purpose",
    "gpuNum": 0,
    "hideHardwareSpecs": false,
    "memoryGiB": 384,
    "name": "ml.m5.24xlarge",
    "vcpuNum": 96
   },
   {
    "_defaultOrder": 12,
    "_isFastLaunch": false,
    "category": "General purpose",
    "gpuNum": 0,
    "hideHardwareSpecs": false,
    "memoryGiB": 8,
    "name": "ml.m5d.large",
    "vcpuNum": 2
   },
   {
    "_defaultOrder": 13,
    "_isFastLaunch": false,
    "category": "General purpose",
    "gpuNum": 0,
    "hideHardwareSpecs": false,
    "memoryGiB": 16,
    "name": "ml.m5d.xlarge",
    "vcpuNum": 4
   },
   {
    "_defaultOrder": 14,
    "_isFastLaunch": false,
    "category": "General purpose",
    "gpuNum": 0,
    "hideHardwareSpecs": false,
    "memoryGiB": 32,
    "name": "ml.m5d.2xlarge",
    "vcpuNum": 8
   },
   {
    "_defaultOrder": 15,
    "_isFastLaunch": false,
    "category": "General purpose",
    "gpuNum": 0,
    "hideHardwareSpecs": false,
    "memoryGiB": 64,
    "name": "ml.m5d.4xlarge",
    "vcpuNum": 16
   },
   {
    "_defaultOrder": 16,
    "_isFastLaunch": false,
    "category": "General purpose",
    "gpuNum": 0,
    "hideHardwareSpecs": false,
    "memoryGiB": 128,
    "name": "ml.m5d.8xlarge",
    "vcpuNum": 32
   },
   {
    "_defaultOrder": 17,
    "_isFastLaunch": false,
    "category": "General purpose",
    "gpuNum": 0,
    "hideHardwareSpecs": false,
    "memoryGiB": 192,
    "name": "ml.m5d.12xlarge",
    "vcpuNum": 48
   },
   {
    "_defaultOrder": 18,
    "_isFastLaunch": false,
    "category": "General purpose",
    "gpuNum": 0,
    "hideHardwareSpecs": false,
    "memoryGiB": 256,
    "name": "ml.m5d.16xlarge",
    "vcpuNum": 64
   },
   {
    "_defaultOrder": 19,
    "_isFastLaunch": false,
    "category": "General purpose",
    "gpuNum": 0,
    "hideHardwareSpecs": false,
    "memoryGiB": 384,
    "name": "ml.m5d.24xlarge",
    "vcpuNum": 96
   },
   {
    "_defaultOrder": 20,
    "_isFastLaunch": false,
    "category": "General purpose",
    "gpuNum": 0,
    "hideHardwareSpecs": true,
    "memoryGiB": 0,
    "name": "ml.geospatial.interactive",
    "supportedImageNames": [
     "sagemaker-geospatial-v1-0"
    ],
    "vcpuNum": 0
   },
   {
    "_defaultOrder": 21,
    "_isFastLaunch": true,
    "category": "Compute optimized",
    "gpuNum": 0,
    "hideHardwareSpecs": false,
    "memoryGiB": 4,
    "name": "ml.c5.large",
    "vcpuNum": 2
   },
   {
    "_defaultOrder": 22,
    "_isFastLaunch": false,
    "category": "Compute optimized",
    "gpuNum": 0,
    "hideHardwareSpecs": false,
    "memoryGiB": 8,
    "name": "ml.c5.xlarge",
    "vcpuNum": 4
   },
   {
    "_defaultOrder": 23,
    "_isFastLaunch": false,
    "category": "Compute optimized",
    "gpuNum": 0,
    "hideHardwareSpecs": false,
    "memoryGiB": 16,
    "name": "ml.c5.2xlarge",
    "vcpuNum": 8
   },
   {
    "_defaultOrder": 24,
    "_isFastLaunch": false,
    "category": "Compute optimized",
    "gpuNum": 0,
    "hideHardwareSpecs": false,
    "memoryGiB": 32,
    "name": "ml.c5.4xlarge",
    "vcpuNum": 16
   },
   {
    "_defaultOrder": 25,
    "_isFastLaunch": false,
    "category": "Compute optimized",
    "gpuNum": 0,
    "hideHardwareSpecs": false,
    "memoryGiB": 72,
    "name": "ml.c5.9xlarge",
    "vcpuNum": 36
   },
   {
    "_defaultOrder": 26,
    "_isFastLaunch": false,
    "category": "Compute optimized",
    "gpuNum": 0,
    "hideHardwareSpecs": false,
    "memoryGiB": 96,
    "name": "ml.c5.12xlarge",
    "vcpuNum": 48
   },
   {
    "_defaultOrder": 27,
    "_isFastLaunch": false,
    "category": "Compute optimized",
    "gpuNum": 0,
    "hideHardwareSpecs": false,
    "memoryGiB": 144,
    "name": "ml.c5.18xlarge",
    "vcpuNum": 72
   },
   {
    "_defaultOrder": 28,
    "_isFastLaunch": false,
    "category": "Compute optimized",
    "gpuNum": 0,
    "hideHardwareSpecs": false,
    "memoryGiB": 192,
    "name": "ml.c5.24xlarge",
    "vcpuNum": 96
   },
   {
    "_defaultOrder": 29,
    "_isFastLaunch": true,
    "category": "Accelerated computing",
    "gpuNum": 1,
    "hideHardwareSpecs": false,
    "memoryGiB": 16,
    "name": "ml.g4dn.xlarge",
    "vcpuNum": 4
   },
   {
    "_defaultOrder": 30,
    "_isFastLaunch": false,
    "category": "Accelerated computing",
    "gpuNum": 1,
    "hideHardwareSpecs": false,
    "memoryGiB": 32,
    "name": "ml.g4dn.2xlarge",
    "vcpuNum": 8
   },
   {
    "_defaultOrder": 31,
    "_isFastLaunch": false,
    "category": "Accelerated computing",
    "gpuNum": 1,
    "hideHardwareSpecs": false,
    "memoryGiB": 64,
    "name": "ml.g4dn.4xlarge",
    "vcpuNum": 16
   },
   {
    "_defaultOrder": 32,
    "_isFastLaunch": false,
    "category": "Accelerated computing",
    "gpuNum": 1,
    "hideHardwareSpecs": false,
    "memoryGiB": 128,
    "name": "ml.g4dn.8xlarge",
    "vcpuNum": 32
   },
   {
    "_defaultOrder": 33,
    "_isFastLaunch": false,
    "category": "Accelerated computing",
    "gpuNum": 4,
    "hideHardwareSpecs": false,
    "memoryGiB": 192,
    "name": "ml.g4dn.12xlarge",
    "vcpuNum": 48
   },
   {
    "_defaultOrder": 34,
    "_isFastLaunch": false,
    "category": "Accelerated computing",
    "gpuNum": 1,
    "hideHardwareSpecs": false,
    "memoryGiB": 256,
    "name": "ml.g4dn.16xlarge",
    "vcpuNum": 64
   },
   {
    "_defaultOrder": 35,
    "_isFastLaunch": false,
    "category": "Accelerated computing",
    "gpuNum": 1,
    "hideHardwareSpecs": false,
    "memoryGiB": 61,
    "name": "ml.p3.2xlarge",
    "vcpuNum": 8
   },
   {
    "_defaultOrder": 36,
    "_isFastLaunch": false,
    "category": "Accelerated computing",
    "gpuNum": 4,
    "hideHardwareSpecs": false,
    "memoryGiB": 244,
    "name": "ml.p3.8xlarge",
    "vcpuNum": 32
   },
   {
    "_defaultOrder": 37,
    "_isFastLaunch": false,
    "category": "Accelerated computing",
    "gpuNum": 8,
    "hideHardwareSpecs": false,
    "memoryGiB": 488,
    "name": "ml.p3.16xlarge",
    "vcpuNum": 64
   },
   {
    "_defaultOrder": 38,
    "_isFastLaunch": false,
    "category": "Accelerated computing",
    "gpuNum": 8,
    "hideHardwareSpecs": false,
    "memoryGiB": 768,
    "name": "ml.p3dn.24xlarge",
    "vcpuNum": 96
   },
   {
    "_defaultOrder": 39,
    "_isFastLaunch": false,
    "category": "Memory Optimized",
    "gpuNum": 0,
    "hideHardwareSpecs": false,
    "memoryGiB": 16,
    "name": "ml.r5.large",
    "vcpuNum": 2
   },
   {
    "_defaultOrder": 40,
    "_isFastLaunch": false,
    "category": "Memory Optimized",
    "gpuNum": 0,
    "hideHardwareSpecs": false,
    "memoryGiB": 32,
    "name": "ml.r5.xlarge",
    "vcpuNum": 4
   },
   {
    "_defaultOrder": 41,
    "_isFastLaunch": false,
    "category": "Memory Optimized",
    "gpuNum": 0,
    "hideHardwareSpecs": false,
    "memoryGiB": 64,
    "name": "ml.r5.2xlarge",
    "vcpuNum": 8
   },
   {
    "_defaultOrder": 42,
    "_isFastLaunch": false,
    "category": "Memory Optimized",
    "gpuNum": 0,
    "hideHardwareSpecs": false,
    "memoryGiB": 128,
    "name": "ml.r5.4xlarge",
    "vcpuNum": 16
   },
   {
    "_defaultOrder": 43,
    "_isFastLaunch": false,
    "category": "Memory Optimized",
    "gpuNum": 0,
    "hideHardwareSpecs": false,
    "memoryGiB": 256,
    "name": "ml.r5.8xlarge",
    "vcpuNum": 32
   },
   {
    "_defaultOrder": 44,
    "_isFastLaunch": false,
    "category": "Memory Optimized",
    "gpuNum": 0,
    "hideHardwareSpecs": false,
    "memoryGiB": 384,
    "name": "ml.r5.12xlarge",
    "vcpuNum": 48
   },
   {
    "_defaultOrder": 45,
    "_isFastLaunch": false,
    "category": "Memory Optimized",
    "gpuNum": 0,
    "hideHardwareSpecs": false,
    "memoryGiB": 512,
    "name": "ml.r5.16xlarge",
    "vcpuNum": 64
   },
   {
    "_defaultOrder": 46,
    "_isFastLaunch": false,
    "category": "Memory Optimized",
    "gpuNum": 0,
    "hideHardwareSpecs": false,
    "memoryGiB": 768,
    "name": "ml.r5.24xlarge",
    "vcpuNum": 96
   },
   {
    "_defaultOrder": 47,
    "_isFastLaunch": false,
    "category": "Accelerated computing",
    "gpuNum": 1,
    "hideHardwareSpecs": false,
    "memoryGiB": 16,
    "name": "ml.g5.xlarge",
    "vcpuNum": 4
   },
   {
    "_defaultOrder": 48,
    "_isFastLaunch": false,
    "category": "Accelerated computing",
    "gpuNum": 1,
    "hideHardwareSpecs": false,
    "memoryGiB": 32,
    "name": "ml.g5.2xlarge",
    "vcpuNum": 8
   },
   {
    "_defaultOrder": 49,
    "_isFastLaunch": false,
    "category": "Accelerated computing",
    "gpuNum": 1,
    "hideHardwareSpecs": false,
    "memoryGiB": 64,
    "name": "ml.g5.4xlarge",
    "vcpuNum": 16
   },
   {
    "_defaultOrder": 50,
    "_isFastLaunch": false,
    "category": "Accelerated computing",
    "gpuNum": 1,
    "hideHardwareSpecs": false,
    "memoryGiB": 128,
    "name": "ml.g5.8xlarge",
    "vcpuNum": 32
   },
   {
    "_defaultOrder": 51,
    "_isFastLaunch": false,
    "category": "Accelerated computing",
    "gpuNum": 1,
    "hideHardwareSpecs": false,
    "memoryGiB": 256,
    "name": "ml.g5.16xlarge",
    "vcpuNum": 64
   },
   {
    "_defaultOrder": 52,
    "_isFastLaunch": false,
    "category": "Accelerated computing",
    "gpuNum": 4,
    "hideHardwareSpecs": false,
    "memoryGiB": 192,
    "name": "ml.g5.12xlarge",
    "vcpuNum": 48
   },
   {
    "_defaultOrder": 53,
    "_isFastLaunch": false,
    "category": "Accelerated computing",
    "gpuNum": 4,
    "hideHardwareSpecs": false,
    "memoryGiB": 384,
    "name": "ml.g5.24xlarge",
    "vcpuNum": 96
   },
   {
    "_defaultOrder": 54,
    "_isFastLaunch": false,
    "category": "Accelerated computing",
    "gpuNum": 8,
    "hideHardwareSpecs": false,
    "memoryGiB": 768,
    "name": "ml.g5.48xlarge",
    "vcpuNum": 192
   },
   {
    "_defaultOrder": 55,
    "_isFastLaunch": false,
    "category": "Accelerated computing",
    "gpuNum": 8,
    "hideHardwareSpecs": false,
    "memoryGiB": 1152,
    "name": "ml.p4d.24xlarge",
    "vcpuNum": 96
   },
   {
    "_defaultOrder": 56,
    "_isFastLaunch": false,
    "category": "Accelerated computing",
    "gpuNum": 8,
    "hideHardwareSpecs": false,
    "memoryGiB": 1152,
    "name": "ml.p4de.24xlarge",
    "vcpuNum": 96
   }
  ],
  "instance_type": "ml.t3.medium",
  "kernelspec": {
   "display_name": "Python 3 (Data Science 3.0)",
   "language": "python",
   "name": "python3__SAGEMAKER_INTERNAL__arn:aws:sagemaker:us-east-1:081325390199:image/sagemaker-data-science-310-v1"
  },
  "language_info": {
   "codemirror_mode": {
    "name": "ipython",
    "version": 3
   },
   "file_extension": ".py",
   "mimetype": "text/x-python",
   "name": "python",
   "nbconvert_exporter": "python",
   "pygments_lexer": "ipython3",
   "version": "3.10.6"
  }
 },
 "nbformat": 4,
 "nbformat_minor": 5
}
